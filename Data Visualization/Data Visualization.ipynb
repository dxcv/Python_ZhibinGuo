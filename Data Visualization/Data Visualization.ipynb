{
 "cells": [
  {
   "cell_type": "markdown",
   "metadata": {},
   "source": [
    "<font size=4 color=\"08#0000\" face=\"Times New Roman\"> **Data Visualization**</font>"
   ]
  },
  {
   "cell_type": "code",
   "execution_count": 15,
   "metadata": {},
   "outputs": [],
   "source": [
    "import matplotlib.pyplot as plt\n",
    "import pandas as pd\n",
    "import numpy as np\n",
    "import os"
   ]
  },
  {
   "cell_type": "code",
   "execution_count": 17,
   "metadata": {},
   "outputs": [
    {
     "data": {
      "text/html": [
       "<div>\n",
       "<style scoped>\n",
       "    .dataframe tbody tr th:only-of-type {\n",
       "        vertical-align: middle;\n",
       "    }\n",
       "\n",
       "    .dataframe tbody tr th {\n",
       "        vertical-align: top;\n",
       "    }\n",
       "\n",
       "    .dataframe thead th {\n",
       "        text-align: right;\n",
       "    }\n",
       "</style>\n",
       "<table border=\"1\" class=\"dataframe\">\n",
       "  <thead>\n",
       "    <tr style=\"text-align: right;\">\n",
       "      <th></th>\n",
       "      <th>CPI:当月同比</th>\n",
       "      <th>M2:同比</th>\n",
       "      <th>PPI:当月同比</th>\n",
       "      <th>宏观经济景气指数:一致指数同比</th>\n",
       "      <th>宏观经济景气指数:先行指数同比</th>\n",
       "      <th>工业增加值当月同比</th>\n",
       "      <th>宏观经济景气指数:一致指数</th>\n",
       "      <th>宏观经济景气指数:先行指数</th>\n",
       "      <th>CPI-PPI</th>\n",
       "      <th>美元指数</th>\n",
       "      <th>中债国债到期收益率:3个月</th>\n",
       "      <th>Unnamed: 12</th>\n",
       "      <th>Unnamed: 13</th>\n",
       "      <th>检验是否正确</th>\n",
       "      <th>CPI同比真实变化</th>\n",
       "      <th>PPI预测</th>\n",
       "      <th>Unnamed: 17</th>\n",
       "      <th>是否正确</th>\n",
       "      <th>经济一致指数同比真实变化</th>\n",
       "      <th>预测值</th>\n",
       "    </tr>\n",
       "    <tr>\n",
       "      <th>日期</th>\n",
       "      <th></th>\n",
       "      <th></th>\n",
       "      <th></th>\n",
       "      <th></th>\n",
       "      <th></th>\n",
       "      <th></th>\n",
       "      <th></th>\n",
       "      <th></th>\n",
       "      <th></th>\n",
       "      <th></th>\n",
       "      <th></th>\n",
       "      <th></th>\n",
       "      <th></th>\n",
       "      <th></th>\n",
       "      <th></th>\n",
       "      <th></th>\n",
       "      <th></th>\n",
       "      <th></th>\n",
       "      <th></th>\n",
       "      <th></th>\n",
       "    </tr>\n",
       "  </thead>\n",
       "  <tbody>\n",
       "  </tbody>\n",
       "</table>\n",
       "</div>"
      ],
      "text/plain": [
       "Empty DataFrame\n",
       "Columns: [CPI:当月同比, M2:同比, PPI:当月同比, 宏观经济景气指数:一致指数同比, 宏观经济景气指数:先行指数同比, 工业增加值当月同比, 宏观经济景气指数:一致指数, 宏观经济景气指数:先行指数, CPI-PPI, 美元指数, 中债国债到期收益率:3个月, Unnamed: 12, Unnamed: 13, 检验是否正确, CPI同比真实变化, PPI预测, Unnamed: 17, 是否正确, 经济一致指数同比真实变化, 预测值]\n",
       "Index: []"
      ]
     },
     "execution_count": 17,
     "metadata": {},
     "output_type": "execute_result"
    }
   ],
   "source": [
    "os.chdir(\"D:\\各种材料\\研究生\\公众号\\三、美林时钟模型\")\n",
    "data= pd.read_excel(r\"D:\\各种材料\\研究生\\公众号\\三、美林时钟模型\\模型改进的探索.xlsx\")\n",
    "data=data.dropna()\n",
    "data.index=data[\"日期\"]\n",
    "del data[\"日期\"]\n",
    "data.head()"
   ]
  },
  {
   "cell_type": "markdown",
   "metadata": {},
   "source": [
    "<font size=4 color=\"08#0000\" face=\"Times New Roman\" > **Plot** </font> "
   ]
  },
  {
   "cell_type": "code",
   "execution_count": 18,
   "metadata": {},
   "outputs": [
    {
     "name": "stderr",
     "output_type": "stream",
     "text": [
      "D:\\Software Download\\Anaconda\\lib\\site-packages\\pandas\\plotting\\_matplotlib\\converter.py:103: FutureWarning: Using an implicitly registered datetime converter for a matplotlib plotting method. The converter was registered by pandas on import. Future versions of pandas will require you to explicitly register matplotlib converters.\n",
      "\n",
      "To register the converters:\n",
      "\t>>> from pandas.plotting import register_matplotlib_converters\n",
      "\t>>> register_matplotlib_converters()\n",
      "  warnings.warn(msg, FutureWarning)\n"
     ]
    },
    {
     "data": {
      "image/png": "[encoded data removed]",
      "text/plain": [
       "<Figure size 864x576 with 1 Axes>"
      ]
     },
     "metadata": {
      "needs_background": "light"
     },
     "output_type": "display_data"
    }
   ],
   "source": [
    "plt.rcParams['font.sans-serif']=['SimHei']\n",
    "plt.rcParams['axes.unicode_minus']=False #为了使坐标轴和标签中的中文也显示\n",
    "fig=plt.figure(figsize=(12,8))#建立画布\n",
    "plt.plot(data[\"M2:同比\"],'r',label='M2同比') #直接传入DataFrame的某个维度\n",
    "plt.plot(data[\"CPI:当月同比\"], 'g', label='CPI同比')\n",
    "plt.title('Correlation')#设置图表的标题\n",
    "plt.grid(True)#是否显示网格线\n",
    "plt.axis('tight')\n",
    "plt.legend(loc=0)#选择图例的位置，当loc=0的时候，自动选择最佳的位置\n",
    "plt.ylabel('Price')\n",
    "plt.xlabel(\"Variable\")#设定横纵坐标的标题\n",
    "plt.show()"
   ]
  }
 ],
 "metadata": {
  "kernelspec": {
   "display_name": "Python 3",
   "language": "python",
   "name": "python3"
  },
  "language_info": {
   "codemirror_mode": {
    "name": "ipython",
    "version": 3
   },
   "file_extension": ".py",
   "mimetype": "text/x-python",
   "name": "python",
   "nbconvert_exporter": "python",
   "pygments_lexer": "ipython3",
   "version": "3.7.4"
  }
 },
 "nbformat": 4,
 "nbformat_minor": 2
}
