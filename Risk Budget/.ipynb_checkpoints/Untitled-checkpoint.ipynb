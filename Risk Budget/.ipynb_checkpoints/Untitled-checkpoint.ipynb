{
 "cells": [
  {
   "cell_type": "markdown",
   "metadata": {},
   "source": [
    "<font type=黑体 size=4 color=#8B0000>风险预算</font>"
   ]
  },
  {
   "cell_type": "markdown",
   "metadata": {},
   "source": [
    "<font size=2 color=b>&ensp;&ensp;&ensp;&ensp;风险预算是将风险分配给每个资产，使得资产管理实现从组合优化向风险配置的转换,通过风险预算得到各个资产的权重分配</font>"
   ]
  },
  {
   "cell_type": "markdown",
   "metadata": {},
   "source": [
    "<font size=2 color=b>&ensp;&ensp;&ensp;&ensp;设组合包含n个资产,&ensp;&ensp;权重为$x=(x_1,x_2,...,x_n)$,&ensp;组合的风险为R(x),&ensp;则资产$i$ 的**边际风险贡献**为</font>\n",
    "$$\\frac{\\delta R(x)}{\\delta x_i}$$ \n",
    "则第$i$个资产的风险贡献$RC_i$为\n",
    "$$RC_i=x_i.\\frac{\\delta R(x)}{\\delta x_i}$$ \n",
    "进一步定义$b_i$为第i个资产的风险贡献$RC_i$在组合风险$R(x)$中所占的百分比，那么在不考虑军借贷和做空的假设下，一个标准的风险预算组合可由如下形式表示:\n",
    "$$RC_i=b_iR(x)$$\n",
    "$$s.t.b_i\\geqslant0，1\\geqslant x_i\\geqslant0, \\sum_{i=1}^nb_i=1,\\sum_{i=1}^nx_i=1$$"
   ]
  },
  {
   "cell_type": "markdown",
   "metadata": {},
   "source": [
    "<font size=4 color=#8B0000>风险预算模型的原理</font>"
   ]
  },
  {
   "cell_type": "markdown",
   "metadata": {},
   "source": [
    "&ensp;&ensp;当给定目标风险预算$b_i$之后，求解上述非线性方程组就可以求得各个资产的权重,方程组的求解可以转化为以下问题：\n",
    "$$min\\sum_{i=1}^n(x_i.\\frac{\\delta R(x)}{\\delta x_i}-b_iR(x))^2$$ subject to$$ \\sum_{i=1}^nx_i=1, 0\\leqslant x_i \\leqslant 1$$"
   ]
  },
  {
   "cell_type": "markdown",
   "metadata": {},
   "source": [
    "<font size=4 color=#8B0000>Python 实现</font>"
   ]
  },
  {
   "cell_type": "code",
   "execution_count": 2,
   "metadata": {},
   "outputs": [],
   "source": [
    "import numpy as np\n",
    "from scipy.optimize import minimize"
   ]
  },
  {
   "cell_type": "code",
   "execution_count": 4,
   "metadata": {},
   "outputs": [],
   "source": [
    "def calculate_portfolio_var(w,V):\n",
    "    # w: row weighting vector, V: the covariance matrix \n",
    "    w=np.matrix(w)\n",
    "    return w*V*(w.T)"
   ]
  },
  {
   "cell_type": "code",
   "execution_count": 5,
   "metadata": {},
   "outputs": [],
   "source": [
    "def calculate_risk_contribution(w,V):\n",
    "    # w: row weighting vector, V: the covariance matrix \n",
    "    w=np.matrix(w)\n",
    "    sigma=np.sqrt(calculate_portfolio_var(w,V))\n",
    "    MRC=V*(w.T)/sigma # the marginal risk contribution of each asset,column vector \n",
    "    RC=np.multiply(MRC,w.T)\n",
    "    return RC  "
   ]
  },
  {
   "cell_type": "code",
   "execution_count": 11,
   "metadata": {},
   "outputs": [],
   "source": [
    "def risk_budget_objective(w,V,y):\n",
    "    #minimizing the function to calculate w\n",
    "    w=np.matrix(w)\n",
    "    y=np.matrix(y)\n",
    "    sigma=np.sqrt(calculate_portfolio_var(w,V))\n",
    "    RC=calculate_risk_contribution(w,V)\n",
    "    object_RC=sigma*(y.T)\n",
    "    J=sum(np.square(RC-object_RC))\n",
    "    return J"
   ]
  },
  {
   "cell_type": "code",
   "execution_count": 18,
   "metadata": {},
   "outputs": [],
   "source": [
    "def total_weight_constraint(x):\n",
    "    return np.sum(x)-1"
   ]
  },
  {
   "cell_type": "code",
   "execution_count": 17,
   "metadata": {},
   "outputs": [],
   "source": [
    "def long_only_constraint(x):\n",
    "    return x"
   ]
  },
  {
   "cell_type": "code",
   "execution_count": 26,
   "metadata": {},
   "outputs": [],
   "source": [
    "def calculate_weights(y,V):\n",
    "    w0=[1/10]*10\n",
    "    cons=({'type':'eq','fun':total_weight_constraint},{'type':'ineq','fun':long_only_constraint})\n",
    "    res=minimize(risk_budget_objective,w0,arg=[V,y], method='SLSQP',constraints=cons,options={'disp':True},tol=np.e**(-50))\n",
    "    w_rb=np.asmatrix(res.w)\n",
    "    return w_rb"
   ]
  },
  {
   "cell_type": "markdown",
   "metadata": {},
   "source": [
    "<font size=6 color=#08B0000>上面这个条件设置这里问一下晟神</font>"
   ]
  }
 ],
 "metadata": {
  "kernelspec": {
   "display_name": "Python 3",
   "language": "python",
   "name": "python3"
  },
  "language_info": {
   "codemirror_mode": {
    "name": "ipython",
    "version": 3
   },
   "file_extension": ".py",
   "mimetype": "text/x-python",
   "name": "python",
   "nbconvert_exporter": "python",
   "pygments_lexer": "ipython3",
   "version": "3.7.4"
  }
 },
 "nbformat": 4,
 "nbformat_minor": 2
}
