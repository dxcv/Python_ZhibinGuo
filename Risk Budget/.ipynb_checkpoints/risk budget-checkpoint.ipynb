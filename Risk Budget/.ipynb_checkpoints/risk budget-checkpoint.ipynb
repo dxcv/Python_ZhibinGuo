{
 "cells": [
  {
   "cell_type": "markdown",
   "metadata": {},
   "source": [
    "<font type=黑体 size=4 color=#8B0000>风险预算</font>"
   ]
  },
  {
   "cell_type": "markdown",
   "metadata": {},
   "source": [
    "<font size=2 color=b>&ensp;&ensp;&ensp;&ensp;风险预算是将风险分配给每个资产，使得资产管理实现从组合优化向风险配置的转换,通过风险预算得到各个资产的权重分配</font>"
   ]
  },
  {
   "cell_type": "markdown",
   "metadata": {},
   "source": [
    "<font size=2 color=b>&ensp;&ensp;&ensp;&ensp;设组合包含n个资产,&ensp;&ensp;权重为$x=(x_1,x_2,...,x_n)$,&ensp;组合的风险为R(x),&ensp;则资产$i$ 的**边际风险贡献**为</font>\n",
    "$$\\frac{\\delta R(x)}{\\delta x_i}$$ \n",
    "则第$i$个资产的风险贡献$RC_i$为\n",
    "$$RC_i=x_i.\\frac{\\delta R(x)}{\\delta x_i}$$ \n",
    "进一步定义$b_i$为第i个资产的风险贡献$RC_i$在组合风险$R(x)$中所占的百分比，那么在不考虑军借贷和做空的假设下，一个标准的风险预算组合可由如下形式表示:\n",
    "$$RC_i=b_iR(x)$$\n",
    "$$s.t.b_i\\geqslant0，1\\geqslant x_i\\geqslant0, \\sum_{i=1}^nb_i=1,\\sum_{i=1}^nx_i=1$$"
   ]
  },
  {
   "cell_type": "markdown",
   "metadata": {},
   "source": [
    "<font size=4 color=#8B0000>风险预算模型的原理</font>"
   ]
  },
  {
   "cell_type": "markdown",
   "metadata": {},
   "source": [
    "&ensp;&ensp;当给定目标风险预算$b_i$之后，求解上述非线性方程组就可以求得各个资产的权重,方程组的求解可以转化为以下问题：\n",
    "$$min\\sum_{i=1}^n(x_i.\\frac{\\delta R(x)}{\\delta x_i}-b_iR(x))^2$$ subject to$$ \\sum_{i=1}^nx_i=1, 0\\leqslant x_i \\leqslant 1$$"
   ]
  },
  {
   "cell_type": "markdown",
   "metadata": {},
   "source": [
    "<font size=4 color=#8B0000>Python 实现</font>"
   ]
  },
  {
   "cell_type": "code",
   "execution_count": 2,
   "metadata": {},
   "outputs": [],
   "source": [
    "import numpy as np\n",
    "from scipy.optimize import minimize"
   ]
  },
  {
   "cell_type": "code",
   "execution_count": 4,
   "metadata": {},
   "outputs": [],
   "source": [
    "def calculate_portfolio_var(w,V):\n",
    "    # w: row weighting vector, V: the covariance matrix \n",
    "    w=np.matrix(w)\n",
    "    return w*V*(w.T)"
   ]
  },
  {
   "cell_type": "code",
   "execution_count": 5,
   "metadata": {},
   "outputs": [],
   "source": [
    "def calculate_risk_contribution(w,V):\n",
    "    # w: row weighting vector, V: the covariance matrix \n",
    "    w=np.matrix(w)\n",
    "    sigma=np.sqrt(calculate_portfolio_var(w,V))\n",
    "    MRC=V*(w.T)/sigma # the marginal risk contribution of each asset,column vector \n",
    "    RC=np.multiply(MRC,w.T)\n",
    "    return RC  "
   ]
  },
  {
   "cell_type": "code",
   "execution_count": 193,
   "metadata": {},
   "outputs": [],
   "source": [
    "def risk_budget_objective(w,pars):\n",
    "    #minimizing the function to calculate w\n",
    "    V=pars[0]\n",
    "    y=pars[1]\n",
    "    y=np.matrix(y)\n",
    "    sigma=np.sqrt(calculate_portfolio_var(w,V))\n",
    "    RC=calculate_risk_contribution(w,V)\n",
    "    #object_RC=sigma*y.T\n",
    "    object_RC=np.multiply(sigma,y.T)\n",
    "    J=sum(np.square(RC-object_RC))\n",
    "    return J"
   ]
  },
  {
   "cell_type": "markdown",
   "metadata": {},
   "source": [
    "<font size=6 color=#08B0000>上面这个条件设置这里问一下晟神</font>"
   ]
  },
  {
   "cell_type": "code",
   "execution_count": 186,
   "metadata": {},
   "outputs": [],
   "source": [
    "def total_weight_constraint(x):\n",
    "    return np.sum(x)-1"
   ]
  },
  {
   "cell_type": "code",
   "execution_count": 187,
   "metadata": {},
   "outputs": [],
   "source": [
    "def long_only_constraint(x):\n",
    "    return x"
   ]
  },
  {
   "cell_type": "code",
   "execution_count": 188,
   "metadata": {},
   "outputs": [],
   "source": [
    "def calculate_weights(y,V):\n",
    "    [m,n]=np.shape(V)\n",
    "    w0=[1/m]*m\n",
    "    cons=({'type':'eq','fun':total_weight_constraint},{'type':'ineq','fun':long_only_constraint})\n",
    "    res=minimize(risk_budget_objective,w0,args=[V,y], method='SLSQP',constraints=cons,options={'disp':True},tol=np.e**(-50))\n",
    "    w_rb=np.asmatrix(res)\n",
    "    return w_rb"
   ]
  },
  {
   "cell_type": "markdown",
   "metadata": {},
   "source": [
    "<font size=6 color=#08B0000>上面这个条件设置这里问一下晟神</font>"
   ]
  },
  {
   "cell_type": "code",
   "execution_count": 189,
   "metadata": {},
   "outputs": [],
   "source": [
    "import pandas as pd\n",
    "import os \n",
    "os.chdir('D:\\各种材料\\研究生\\实习\\华泰金工实习-郭智斌-13682326956\\GMAT& GAMA策略 python to matlab\\GMTA GAMA Mozaic HSTC')\n",
    "risk=pd.read_excel('日度data1999.xlsx','风险资产')\n",
    "defense=pd.read_excel('日度data1999.xlsx','防御资产')\n",
    "defense=defense.iloc[:,1:]\n",
    "sample=pd.concat([risk,defense],axis=1)\n",
    "sample.index=sample.iloc[:,0]\n",
    "del sample[\"Unnamed: 0\"]\n",
    "sample.index.name=\"date\"\n",
    "sample=sample.iloc[:,1:6]"
   ]
  },
  {
   "cell_type": "code",
   "execution_count": 194,
   "metadata": {},
   "outputs": [
    {
     "name": "stdout",
     "output_type": "stream",
     "text": [
      "Optimization terminated successfully.    (Exit mode 0)\n",
      "            Current function value: 3.1191842678777577e-21\n",
      "            Iterations: 46\n",
      "            Function evaluations: 322\n",
      "            Gradient evaluations: 46\n"
     ]
    },
    {
     "data": {
      "text/plain": [
       "matrix([[     fun: 3.1191842678777577e-21\n",
       "     jac: array([1.91969923e-12, 1.91730505e-12, 1.92229212e-12, 1.91900648e-12,\n",
       "       1.91935759e-12])\n",
       " message: 'Optimization terminated successfully.'\n",
       "    nfev: 322\n",
       "     nit: 46\n",
       "    njev: 46\n",
       "  status: 0\n",
       " success: True\n",
       "       x: array([0.22711005, 0.21736608, 0.20521317, 0.16716862, 0.18314209])]],\n",
       "       dtype=object)"
      ]
     },
     "execution_count": 194,
     "metadata": {},
     "output_type": "execute_result"
    }
   ],
   "source": [
    "daily_return=sample.pct_change().dropna()#计算日收益率\n",
    "V=daily_return.cov()\n",
    "V=np.matrix(V)\n",
    "[m,n]=np.shape(V)\n",
    "y=[1/m]*m #risk parity\n",
    "pars=[V,y]\n",
    "w=calculate_weights(y,V)\n",
    "w"
   ]
  }
 ],
 "metadata": {
  "kernelspec": {
   "display_name": "Python 3",
   "language": "python",
   "name": "python3"
  },
  "language_info": {
   "codemirror_mode": {
    "name": "ipython",
    "version": 3
   },
   "file_extension": ".py",
   "mimetype": "text/x-python",
   "name": "python",
   "nbconvert_exporter": "python",
   "pygments_lexer": "ipython3",
   "version": "3.7.4"
  }
 },
 "nbformat": 4,
 "nbformat_minor": 2
}
