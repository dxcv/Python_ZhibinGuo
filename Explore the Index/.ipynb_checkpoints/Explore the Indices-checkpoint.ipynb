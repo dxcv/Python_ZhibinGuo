{
 "cells": [
  {
   "cell_type": "markdown",
   "metadata": {},
   "source": [
    "<font size=4 color=\"08#0000\" face=\"Times New Roman\">**Explore Indices**</font>"
   ]
  },
  {
   "cell_type": "code",
   "execution_count": 2,
   "metadata": {},
   "outputs": [],
   "source": [
    "import os\n",
    "import pandas as pd\n",
    "import numpy as np"
   ]
  },
  {
   "cell_type": "code",
   "execution_count": 22,
   "metadata": {},
   "outputs": [
    {
     "data": {
      "text/html": [
       "<div>\n",
       "<style scoped>\n",
       "    .dataframe tbody tr th:only-of-type {\n",
       "        vertical-align: middle;\n",
       "    }\n",
       "\n",
       "    .dataframe tbody tr th {\n",
       "        vertical-align: top;\n",
       "    }\n",
       "\n",
       "    .dataframe thead th {\n",
       "        text-align: right;\n",
       "    }\n",
       "</style>\n",
       "<table border=\"1\" class=\"dataframe\">\n",
       "  <thead>\n",
       "    <tr style=\"text-align: right;\">\n",
       "      <th></th>\n",
       "      <th>沪深300</th>\n",
       "      <th>中证500</th>\n",
       "    </tr>\n",
       "    <tr>\n",
       "      <th>日期</th>\n",
       "      <th></th>\n",
       "      <th></th>\n",
       "    </tr>\n",
       "  </thead>\n",
       "  <tbody>\n",
       "    <tr>\n",
       "      <td>2004-12-31</td>\n",
       "      <td>1000.0000</td>\n",
       "      <td>1000.0000</td>\n",
       "    </tr>\n",
       "    <tr>\n",
       "      <td>2005-01-31</td>\n",
       "      <td>954.8790</td>\n",
       "      <td>922.6530</td>\n",
       "    </tr>\n",
       "    <tr>\n",
       "      <td>2005-02-28</td>\n",
       "      <td>1039.9890</td>\n",
       "      <td>1020.8470</td>\n",
       "    </tr>\n",
       "    <tr>\n",
       "      <td>2005-03-31</td>\n",
       "      <td>942.2030</td>\n",
       "      <td>896.0680</td>\n",
       "    </tr>\n",
       "    <tr>\n",
       "      <td>2005-04-29</td>\n",
       "      <td>932.3950</td>\n",
       "      <td>847.6110</td>\n",
       "    </tr>\n",
       "    <tr>\n",
       "      <td>...</td>\n",
       "      <td>...</td>\n",
       "      <td>...</td>\n",
       "    </tr>\n",
       "    <tr>\n",
       "      <td>2019-10-31</td>\n",
       "      <td>3886.7519</td>\n",
       "      <td>4917.4174</td>\n",
       "    </tr>\n",
       "    <tr>\n",
       "      <td>2019-11-29</td>\n",
       "      <td>3828.6706</td>\n",
       "      <td>4894.9416</td>\n",
       "    </tr>\n",
       "    <tr>\n",
       "      <td>2019-12-31</td>\n",
       "      <td>4096.5821</td>\n",
       "      <td>5267.6622</td>\n",
       "    </tr>\n",
       "    <tr>\n",
       "      <td>2020-01-23</td>\n",
       "      <td>4003.9013</td>\n",
       "      <td>5377.7411</td>\n",
       "    </tr>\n",
       "    <tr>\n",
       "      <td>2020-02-21</td>\n",
       "      <td>4149.4903</td>\n",
       "      <td>5784.0321</td>\n",
       "    </tr>\n",
       "  </tbody>\n",
       "</table>\n",
       "<p>183 rows × 2 columns</p>\n",
       "</div>"
      ],
      "text/plain": [
       "                沪深300      中证500\n",
       "日期                              \n",
       "2004-12-31  1000.0000  1000.0000\n",
       "2005-01-31   954.8790   922.6530\n",
       "2005-02-28  1039.9890  1020.8470\n",
       "2005-03-31   942.2030   896.0680\n",
       "2005-04-29   932.3950   847.6110\n",
       "...               ...        ...\n",
       "2019-10-31  3886.7519  4917.4174\n",
       "2019-11-29  3828.6706  4894.9416\n",
       "2019-12-31  4096.5821  5267.6622\n",
       "2020-01-23  4003.9013  5377.7411\n",
       "2020-02-21  4149.4903  5784.0321\n",
       "\n",
       "[183 rows x 2 columns]"
      ]
     },
     "execution_count": 22,
     "metadata": {},
     "output_type": "execute_result"
    }
   ],
   "source": [
    "os.chdir(\"D:\\各种材料\\研究生\\公众号\\四、话说指数\")\n",
    "data=pd.read_excel(r\"D:\\各种材料\\研究生\\公众号\\四、话说指数\\指数价格数据.xlsx\")\n",
    "data=data.dropna()\n",
    "data.index=data[\"日期\"]\n",
    "del data[\"日期\"]\n",
    "data"
   ]
  },
  {
   "cell_type": "code",
   "execution_count": 16,
   "metadata": {},
   "outputs": [],
   "source": [
    "def STD(D):#Every column of D the sequence os a variable\n",
    "    D=(D-D.mean())/D.std()\n",
    "    return D"
   ]
  },
  {
   "cell_type": "code",
   "execution_count": 23,
   "metadata": {},
   "outputs": [],
   "source": [
    "def CORR(D1,D2):\n",
    "    #D1,D2 are two DataFrame\n",
    "    return D1.corr(D2)"
   ]
  }
 ],
 "metadata": {
  "kernelspec": {
   "display_name": "Python 3",
   "language": "python",
   "name": "python3"
  },
  "language_info": {
   "codemirror_mode": {
    "name": "ipython",
    "version": 3
   },
   "file_extension": ".py",
   "mimetype": "text/x-python",
   "name": "python",
   "nbconvert_exporter": "python",
   "pygments_lexer": "ipython3",
   "version": "3.7.4"
  }
 },
 "nbformat": 4,
 "nbformat_minor": 2
}
