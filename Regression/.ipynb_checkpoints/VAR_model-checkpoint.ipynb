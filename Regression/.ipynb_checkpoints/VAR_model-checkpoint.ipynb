{
 "cells": [
  {
   "cell_type": "markdown",
   "metadata": {},
   "source": [
    "<font size=4 color=\"08#0000\" face= \"Times New Roman\"> 时间序列回归的VAR模型<br />\n",
    "This section is mainly referred to the blog https://blog.csdn.net/mooncrystal123/article/details/86736397 </font>"
   ]
  },
  {
   "cell_type": "markdown",
   "metadata": {},
   "source": [
    "<font size=3 face=\"宋体\" >  $\\ $  $\\  $  $\\  $ 传统的时间序列模型例如ARIMA,ARIMA-GARCH等，属于单变量的时间序列模型。仅仅能够分析变量当前值受其滞后项的影响，但是VAR模型不仅能够分析自身滞后项的影响外，还能够分析其他相关因素的滞后项对当前值的影响，其形式如下:<br/>\n",
    "$$ y_t=\\beta_1*y_{t-1}+\\alpha_1*x_{t-1}+\\beta_2*y_{t-2}+\\alpha_2*x_{t-2}+...  \\tag {1.1}$$  \n",
    "也就是说VAR模型集合了多元线性模型和时间序列模型的优点。<br/>\n",
    "\n",
    "**VAR 模型的建模步骤**<br/>\n",
    "(1)画$N$个因子的序列相关图，计算相关系数，查看因子间的相关系数关系。<br/>\n",
    "(2)对每个因子的原始数据进行平稳性检验，即ADF检验。VAR模型要求所有的因子是同阶协整的。即$N$个因子中，只要有一个因子数据不平稳，就要**全体**做差分，直到所有的因子都平稳。<br/>\n",
    "(3)对应因变量$y_t$和影响因子$x_i$做协整检验。一般是EG协整关系检验。<br/>\n",
    "(4)通过AIC、BIC以及LR定阶，一般是要求AIC,BIC尽量小，LR尽量大。<br/>\n",
    "(5)定阶完成后，进行参数估计，看参数的显著性。<br/>\n",
    "(6)对参数进行稳定性检验。这是为了看样本是否发生了结构性变化。<br/>"
   ]
  },
  {
   "cell_type": "markdown",
   "metadata": {},
   "source": [
    "<font size=4 color=\"08#0000\" face=\"宋体\"> **导入数据**</font>"
   ]
  },
  {
   "cell_type": "code",
   "execution_count": 72,
   "metadata": {},
   "outputs": [
    {
     "data": {
      "text/html": [
       "<div>\n",
       "<style scoped>\n",
       "    .dataframe tbody tr th:only-of-type {\n",
       "        vertical-align: middle;\n",
       "    }\n",
       "\n",
       "    .dataframe tbody tr th {\n",
       "        vertical-align: top;\n",
       "    }\n",
       "\n",
       "    .dataframe thead th {\n",
       "        text-align: right;\n",
       "    }\n",
       "</style>\n",
       "<table border=\"1\" class=\"dataframe\">\n",
       "  <thead>\n",
       "    <tr style=\"text-align: right;\">\n",
       "      <th></th>\n",
       "      <th>CPI:当月同比</th>\n",
       "      <th>M2:同比</th>\n",
       "      <th>PPI:当月同比</th>\n",
       "      <th>宏观经济景气指数:一致指数同比</th>\n",
       "      <th>宏观经济景气指数:先行指数同比</th>\n",
       "      <th>工业增加值当月同比</th>\n",
       "      <th>宏观经济景气指数:一致指数</th>\n",
       "      <th>宏观经济景气指数:先行指数</th>\n",
       "      <th>CPI-PPI</th>\n",
       "      <th>美元指数</th>\n",
       "      <th>中债国债到期收益率:3个月</th>\n",
       "    </tr>\n",
       "    <tr>\n",
       "      <th>日期</th>\n",
       "      <th></th>\n",
       "      <th></th>\n",
       "      <th></th>\n",
       "      <th></th>\n",
       "      <th></th>\n",
       "      <th></th>\n",
       "      <th></th>\n",
       "      <th></th>\n",
       "      <th></th>\n",
       "      <th></th>\n",
       "      <th></th>\n",
       "    </tr>\n",
       "  </thead>\n",
       "  <tbody>\n",
       "    <tr>\n",
       "      <td>2002-01-31</td>\n",
       "      <td>-1.0</td>\n",
       "      <td>13.1</td>\n",
       "      <td>-4.20</td>\n",
       "      <td>-1.514680</td>\n",
       "      <td>2.108678</td>\n",
       "      <td>18.6</td>\n",
       "      <td>94.93</td>\n",
       "      <td>100.72</td>\n",
       "      <td>3.20</td>\n",
       "      <td>-5.00</td>\n",
       "      <td>2.2285</td>\n",
       "    </tr>\n",
       "    <tr>\n",
       "      <td>2002-02-28</td>\n",
       "      <td>0.0</td>\n",
       "      <td>13.0</td>\n",
       "      <td>-4.20</td>\n",
       "      <td>-1.879583</td>\n",
       "      <td>1.644471</td>\n",
       "      <td>2.7</td>\n",
       "      <td>95.01</td>\n",
       "      <td>100.75</td>\n",
       "      <td>4.20</td>\n",
       "      <td>-4.70</td>\n",
       "      <td>1.9435</td>\n",
       "    </tr>\n",
       "    <tr>\n",
       "      <td>2002-03-31</td>\n",
       "      <td>-0.8</td>\n",
       "      <td>14.4</td>\n",
       "      <td>-4.00</td>\n",
       "      <td>-2.092522</td>\n",
       "      <td>1.043862</td>\n",
       "      <td>10.9</td>\n",
       "      <td>95.45</td>\n",
       "      <td>100.67</td>\n",
       "      <td>3.20</td>\n",
       "      <td>-4.50</td>\n",
       "      <td>1.7682</td>\n",
       "    </tr>\n",
       "    <tr>\n",
       "      <td>2002-04-30</td>\n",
       "      <td>-1.3</td>\n",
       "      <td>14.1</td>\n",
       "      <td>-3.06</td>\n",
       "      <td>-0.093139</td>\n",
       "      <td>0.962406</td>\n",
       "      <td>12.1</td>\n",
       "      <td>96.54</td>\n",
       "      <td>100.71</td>\n",
       "      <td>1.76</td>\n",
       "      <td>-3.38</td>\n",
       "      <td>1.8773</td>\n",
       "    </tr>\n",
       "    <tr>\n",
       "      <td>2002-05-31</td>\n",
       "      <td>-1.1</td>\n",
       "      <td>14.0</td>\n",
       "      <td>-2.63</td>\n",
       "      <td>0.727046</td>\n",
       "      <td>1.123370</td>\n",
       "      <td>12.9</td>\n",
       "      <td>96.98</td>\n",
       "      <td>100.82</td>\n",
       "      <td>1.53</td>\n",
       "      <td>-2.74</td>\n",
       "      <td>1.7988</td>\n",
       "    </tr>\n",
       "  </tbody>\n",
       "</table>\n",
       "</div>"
      ],
      "text/plain": [
       "            CPI:当月同比  M2:同比  PPI:当月同比  宏观经济景气指数:一致指数同比  宏观经济景气指数:先行指数同比  \\\n",
       "日期                                                                        \n",
       "2002-01-31      -1.0   13.1     -4.20        -1.514680         2.108678   \n",
       "2002-02-28       0.0   13.0     -4.20        -1.879583         1.644471   \n",
       "2002-03-31      -0.8   14.4     -4.00        -2.092522         1.043862   \n",
       "2002-04-30      -1.3   14.1     -3.06        -0.093139         0.962406   \n",
       "2002-05-31      -1.1   14.0     -2.63         0.727046         1.123370   \n",
       "\n",
       "            工业增加值当月同比  宏观经济景气指数:一致指数  宏观经济景气指数:先行指数  CPI-PPI  美元指数  \\\n",
       "日期                                                                   \n",
       "2002-01-31       18.6          94.93         100.72     3.20 -5.00   \n",
       "2002-02-28        2.7          95.01         100.75     4.20 -4.70   \n",
       "2002-03-31       10.9          95.45         100.67     3.20 -4.50   \n",
       "2002-04-30       12.1          96.54         100.71     1.76 -3.38   \n",
       "2002-05-31       12.9          96.98         100.82     1.53 -2.74   \n",
       "\n",
       "            中债国债到期收益率:3个月  \n",
       "日期                         \n",
       "2002-01-31         2.2285  \n",
       "2002-02-28         1.9435  \n",
       "2002-03-31         1.7682  \n",
       "2002-04-30         1.8773  \n",
       "2002-05-31         1.7988  "
      ]
     },
     "execution_count": 72,
     "metadata": {},
     "output_type": "execute_result"
    }
   ],
   "source": [
    "import os\n",
    "import pandas as pd\n",
    "import numpy as np\n",
    "os.chdir(\"D:\\各种材料\\研究生\\公众号\\三、美林时钟模型\")\n",
    "data= pd.read_excel(r\"D:\\各种材料\\研究生\\公众号\\三、美林时钟模型\\模型改进的探索.xlsx\")\n",
    "data=data.dropna()\n",
    "data.index=data[\"日期\"]\n",
    "del data[\"日期\"]\n",
    "#data=(data-data.mean())/data.std()\n",
    "data.head()"
   ]
  },
  {
   "cell_type": "code",
   "execution_count": 73,
   "metadata": {},
   "outputs": [],
   "source": [
    "import statsmodels.api as sm\n",
    "import statsmodels.stats.diagnostic \n",
    "import matplotlib.pyplot as plt\n",
    "import pandas as pd\n",
    "import numpy as np"
   ]
  },
  {
   "cell_type": "code",
   "execution_count": 55,
   "metadata": {},
   "outputs": [
    {
     "data": {
      "image/png": "[encoded data removed]",
      "text/plain": [
       "<Figure size 864x576 with 1 Axes>"
      ]
     },
     "metadata": {
      "needs_background": "light"
     },
     "output_type": "display_data"
    }
   ],
   "source": [
    "plt.rcParams['font.sans-serif']=['SimHei']\n",
    "plt.rcParams['axes.unicode_minus']=False\n",
    "fig=plt.figure(figsize=(12,8))\n",
    "plt.plot(data[\"M2:同比\"],'r',label='M2同比') #直接将数据放进去，加一些参数即可\n",
    "plt.plot(data[\"CPI:当月同比\"], 'g', label='CPI同比')\n",
    "plt.title('Correlation')\n",
    "plt.grid(True)#即是否显示网格线\n",
    "plt.axis('tight')\n",
    "plt.legend(loc=0)\n",
    "plt.ylabel('Price')\n",
    "plt.xlabel(\"Variable\")\n",
    "plt.show()"
   ]
  },
  {
   "cell_type": "markdown",
   "metadata": {},
   "source": [
    "<font size=4 color=\"08#0000\" face=\"Times new Roman\">**ADF Test**</font>"
   ]
  },
  {
   "cell_type": "markdown",
   "metadata": {},
   "source": [
    "<font size=3 face=\"宋体\"> $\\ $  $\\ $ $\\ $ $\\ $ADF检验其实就是单位根检验，如果序列是平稳的，就不存在单位根；否则就会存在单位根；如果存在单位根，自变量和因变量之间的关系就具有欺骗性，因为残差序列的任何误差都不会随着样本量的增大而衰减，也就是说模型中的残差的影响是永久的，这种回归有称为伪回归。如果存在单位根，该过程就是一个随机漫步。<br/>\n",
    "    $\\ $ $\\ $ $\\ $ $\\ $ADF的原假设H0是存在单位根，如果得到显著性验证统计量小于三个置信度（10%，5%，1%），则对应有（90%，95%，99%）的把握来拒绝原假设。</font>"
   ]
  },
  {
   "cell_type": "code",
   "execution_count": 79,
   "metadata": {},
   "outputs": [
    {
     "data": {
      "text/html": [
       "<div>\n",
       "<style scoped>\n",
       "    .dataframe tbody tr th:only-of-type {\n",
       "        vertical-align: middle;\n",
       "    }\n",
       "\n",
       "    .dataframe tbody tr th {\n",
       "        vertical-align: top;\n",
       "    }\n",
       "\n",
       "    .dataframe thead th {\n",
       "        text-align: right;\n",
       "    }\n",
       "</style>\n",
       "<table border=\"1\" class=\"dataframe\">\n",
       "  <thead>\n",
       "    <tr style=\"text-align: right;\">\n",
       "      <th></th>\n",
       "      <th>value</th>\n",
       "    </tr>\n",
       "  </thead>\n",
       "  <tbody>\n",
       "    <tr>\n",
       "      <td>Test Statistic Value</td>\n",
       "      <td>-6.51803</td>\n",
       "    </tr>\n",
       "    <tr>\n",
       "      <td>p-value</td>\n",
       "      <td>1.05924e-08</td>\n",
       "    </tr>\n",
       "    <tr>\n",
       "      <td>Lags Used</td>\n",
       "      <td>11</td>\n",
       "    </tr>\n",
       "    <tr>\n",
       "      <td>Number of Observations Used</td>\n",
       "      <td>201</td>\n",
       "    </tr>\n",
       "    <tr>\n",
       "      <td>Critical Value(1%)</td>\n",
       "      <td>-3.46331</td>\n",
       "    </tr>\n",
       "    <tr>\n",
       "      <td>Critical Value(5%)</td>\n",
       "      <td>-2.87603</td>\n",
       "    </tr>\n",
       "    <tr>\n",
       "      <td>Critical Value(10%)</td>\n",
       "      <td>-2.57449</td>\n",
       "    </tr>\n",
       "  </tbody>\n",
       "</table>\n",
       "</div>"
      ],
      "text/plain": [
       "                                   value\n",
       "Test Statistic Value            -6.51803\n",
       "p-value                      1.05924e-08\n",
       "Lags Used                             11\n",
       "Number of Observations Used          201\n",
       "Critical Value(1%)              -3.46331\n",
       "Critical Value(5%)              -2.87603\n",
       "Critical Value(10%)             -2.57449"
      ]
     },
     "execution_count": 79,
     "metadata": {},
     "output_type": "execute_result"
    }
   ],
   "source": [
    "diff1_data=data-data.shift(1)\n",
    "diff1_data=diff1_data.dropna()\n",
    "adfResult = sm.tsa.stattools.adfuller(diff1_data[\"M2:同比\"])\n",
    "output=pd.DataFrame(index=['Test Statistic Value', \"p-value\", \"Lags Used\", \"Number of Observations Used\", \n",
    "                           \"Critical Value(1%)\", \"Critical Value(5%)\", \"Critical Value(10%)\"],columns=[\"value\"])\n",
    "output['value']['Test Statistic Value'] = adfResult[0]\n",
    "output['value']['p-value']=adfResult[1]\n",
    "output['value']['Lags Used']=adfResult[2]\n",
    "output['value']['Number of Observations Used'] = adfResult[3] \n",
    "output['value']['Critical Value(1%)'] = adfResult[4]['1%'] \n",
    "output['value']['Critical Value(5%)'] = adfResult[4]['5%'] \n",
    "output['value']['Critical Value(10%)'] = adfResult[4]['10%']\n",
    "output#发现又经历一次差分之后变得平稳"
   ]
  },
  {
   "cell_type": "markdown",
   "metadata": {},
   "source": [
    "<font size=4 color=\"08#0000\" face=\"Times New Roman\">**协整检验**</font>"
   ]
  },
  {
   "cell_type": "code",
   "execution_count": 80,
   "metadata": {},
   "outputs": [
    {
     "data": {
      "text/plain": [
       "(-5.497998053787151,\n",
       " 1.808758723101282e-05,\n",
       " array([-3.94884588, -3.36510304, -3.06451618]))"
      ]
     },
     "execution_count": 80,
     "metadata": {},
     "output_type": "execute_result"
    }
   ],
   "source": [
    "result=sm.tsa.stattools.coint(diff1_data[\"CPI:当月同比\"],diff1_data[\"PPI:当月同比\"])\n",
    "result#返回T值和P值，P值越低代表协整关系越强"
   ]
  },
  {
   "cell_type": "markdown",
   "metadata": {},
   "source": [
    "<font size=4 face=\"Times New Romman\" color=\"08#0000\">**模型估计+定阶** </font>"
   ]
  },
  {
   "cell_type": "code",
   "execution_count": 83,
   "metadata": {},
   "outputs": [
    {
     "data": {
      "text/html": [
       "<div>\n",
       "<style scoped>\n",
       "    .dataframe tbody tr th:only-of-type {\n",
       "        vertical-align: middle;\n",
       "    }\n",
       "\n",
       "    .dataframe tbody tr th {\n",
       "        vertical-align: top;\n",
       "    }\n",
       "\n",
       "    .dataframe thead th {\n",
       "        text-align: right;\n",
       "    }\n",
       "</style>\n",
       "<table border=\"1\" class=\"dataframe\">\n",
       "  <thead>\n",
       "    <tr style=\"text-align: right;\">\n",
       "      <th></th>\n",
       "      <th>经济一致指数</th>\n",
       "      <th>经济先行指数</th>\n",
       "      <th>生产增加值</th>\n",
       "    </tr>\n",
       "    <tr>\n",
       "      <th>日期</th>\n",
       "      <th></th>\n",
       "      <th></th>\n",
       "      <th></th>\n",
       "    </tr>\n",
       "  </thead>\n",
       "  <tbody>\n",
       "    <tr>\n",
       "      <td>2002-02-28</td>\n",
       "      <td>0.08</td>\n",
       "      <td>0.03</td>\n",
       "      <td>-15.9</td>\n",
       "    </tr>\n",
       "    <tr>\n",
       "      <td>2002-03-31</td>\n",
       "      <td>0.44</td>\n",
       "      <td>-0.08</td>\n",
       "      <td>8.2</td>\n",
       "    </tr>\n",
       "    <tr>\n",
       "      <td>2002-04-30</td>\n",
       "      <td>1.09</td>\n",
       "      <td>0.04</td>\n",
       "      <td>1.2</td>\n",
       "    </tr>\n",
       "    <tr>\n",
       "      <td>2002-05-31</td>\n",
       "      <td>0.44</td>\n",
       "      <td>0.11</td>\n",
       "      <td>0.8</td>\n",
       "    </tr>\n",
       "    <tr>\n",
       "      <td>2002-06-30</td>\n",
       "      <td>0.21</td>\n",
       "      <td>0.20</td>\n",
       "      <td>-0.5</td>\n",
       "    </tr>\n",
       "  </tbody>\n",
       "</table>\n",
       "</div>"
      ],
      "text/plain": [
       "            经济一致指数  经济先行指数  生产增加值\n",
       "日期                               \n",
       "2002-02-28    0.08    0.03  -15.9\n",
       "2002-03-31    0.44   -0.08    8.2\n",
       "2002-04-30    1.09    0.04    1.2\n",
       "2002-05-31    0.44    0.11    0.8\n",
       "2002-06-30    0.21    0.20   -0.5"
      ]
     },
     "execution_count": 83,
     "metadata": {},
     "output_type": "execute_result"
    }
   ],
   "source": [
    "# InDataDict={\"CPI同比\":diff1_data[\"CPI:当月同比\"],\"PPI同比\":diff1_data[\"PPI:当月同比\"],\"M2同比\":diff1_data[\"M2:同比\"]}#选择带入VAR模型的两个变量，建立字典\n",
    "# testdata0 = pd.DataFrame(InDataDict,index=diff1_data.index)\n",
    "# testdata=testdata0[[\"CPI同比\",\"PPI同比\"]]\n",
    "# testdata.head()\n",
    "InDataDict={\"经济一致指数\":diff1_data[\"宏观经济景气指数:一致指数\"],\"经济先行指数\":diff1_data[\"宏观经济景气指数:先行指数\"],\"生产增加值\":diff1_data[\"工业增加值当月同比\"]}#选择带入VAR模型的两个变量，建立字典\n",
    "testdata = pd.DataFrame(InDataDict,index=diff1_data.index)\n",
    "testdata.head()"
   ]
  },
  {
   "cell_type": "code",
   "execution_count": null,
   "metadata": {},
   "outputs": [],
   "source": [
    "#[0.4036,-0.5657,0.6075]\n",
    "[0.1876,-0.2630,0.2824]"
   ]
  },
  {
   "cell_type": "code",
   "execution_count": 87,
   "metadata": {},
   "outputs": [
    {
     "name": "stderr",
     "output_type": "stream",
     "text": [
      "D:\\Software Download\\Ananconda\\anaconda\\lib\\site-packages\\statsmodels\\tsa\\base\\tsa_model.py:165: ValueWarning: No frequency information was provided, so inferred frequency M will be used.\n",
      "  % freq, ValueWarning)\n"
     ]
    },
    {
     "name": "stdout",
     "output_type": "stream",
     "text": [
      "                                 Statespace Model Results                                \n",
      "=========================================================================================\n",
      "Dep. Variable:     ['经济一致指数', '经济先行指数', '生产增加值']   No. Observations:                  213\n",
      "Model:                                    VAR(6)   Log Likelihood                -758.999\n",
      "Date:                           Wed, 12 Feb 2020   AIC                           1637.998\n",
      "Time:                                   21:18:49   BIC                           1839.676\n",
      "Sample:                               02-28-2002   HQIC                          1719.503\n",
      "                                    - 10-31-2019                                         \n",
      "Covariance Type:                             opg                                         \n",
      "==========================================================================================\n",
      "Ljung-Box (Q):          37.21, 44.03, 48.64   Jarque-Bera (JB):   10454.11, 100.74, 226.97\n",
      "Prob(Q):                   0.60, 0.30, 0.16   Prob(JB):                   0.00, 0.00, 0.00\n",
      "Heteroskedasticity (H):    3.98, 3.41, 0.70   Skew:                      3.63, 0.07, -0.18\n",
      "Prob(H) (two-sided):       0.00, 0.00, 0.14   Kurtosis:                  36.54, 6.37, 8.04\n",
      "                         Results for equation 经济一致指数                          \n",
      "==============================================================================\n",
      "                 coef    std err          z      P>|z|      [0.025      0.975]\n",
      "------------------------------------------------------------------------------\n",
      "L1.经济一致指数      0.2698      0.119      2.257      0.024       0.036       0.504\n",
      "L1.经济先行指数      0.1510      0.160      0.942      0.346      -0.163       0.465\n",
      "L1.生产增加值      -0.0004      0.027     -0.014      0.989      -0.054       0.053\n",
      "L2.经济一致指数      0.1125      0.134      0.839      0.402      -0.150       0.376\n",
      "L2.经济先行指数      0.1574      0.179      0.882      0.378      -0.193       0.507\n",
      "L2.生产增加值       0.0087      0.039      0.220      0.826      -0.069       0.086\n",
      "L3.经济一致指数     -0.1797      0.131     -1.374      0.169      -0.436       0.077\n",
      "L3.经济先行指数      0.1069      0.206      0.520      0.603      -0.296       0.510\n",
      "L3.生产增加值       0.0217      0.052      0.421      0.674      -0.079       0.123\n",
      "L4.经济一致指数      0.0473      0.162      0.292      0.771      -0.271       0.365\n",
      "L4.经济先行指数      0.1375      0.184      0.746      0.456      -0.224       0.499\n",
      "L4.生产增加值       0.0224      0.050      0.451      0.652      -0.075       0.120\n",
      "L5.经济一致指数      0.0386      0.138      0.280      0.780      -0.232       0.309\n",
      "L5.经济先行指数     -0.0682      0.200     -0.342      0.732      -0.459       0.323\n",
      "L5.生产增加值       0.0105      0.044      0.239      0.811      -0.075       0.096\n",
      "L6.经济一致指数     -0.0473      0.150     -0.315      0.753      -0.342       0.247\n",
      "L6.经济先行指数      0.0917      0.217      0.423      0.673      -0.334       0.517\n",
      "L6.生产增加值       0.0041      0.027      0.153      0.879      -0.049       0.057\n",
      "                         Results for equation 经济先行指数                          \n",
      "==============================================================================\n",
      "                 coef    std err          z      P>|z|      [0.025      0.975]\n",
      "------------------------------------------------------------------------------\n",
      "L1.经济一致指数      0.0512      0.112      0.459      0.646      -0.168       0.270\n",
      "L1.经济先行指数      0.4853      0.079      6.123      0.000       0.330       0.641\n",
      "L1.生产增加值      -0.0067      0.017     -0.395      0.693      -0.040       0.027\n",
      "L2.经济一致指数     -0.0514      0.140     -0.368      0.713      -0.325       0.222\n",
      "L2.经济先行指数      0.1716      0.081      2.119      0.034       0.013       0.330\n",
      "L2.生产增加值      -0.0194      0.027     -0.721      0.471      -0.072       0.033\n",
      "L3.经济一致指数     -0.0023      0.086     -0.027      0.978      -0.170       0.165\n",
      "L3.经济先行指数     -0.4671      0.084     -5.570      0.000      -0.631      -0.303\n",
      "L3.生产增加值      -0.0222      0.032     -0.700      0.484      -0.084       0.040\n",
      "L4.经济一致指数      0.2468      0.077      3.224      0.001       0.097       0.397\n",
      "L4.经济先行指数      0.2955      0.055      5.367      0.000       0.188       0.403\n",
      "L4.生产增加值      -0.0165      0.031     -0.533      0.594      -0.077       0.044\n",
      "L5.经济一致指数     -0.1699      0.098     -1.729      0.084      -0.362       0.023\n",
      "L5.经济先行指数     -0.0023      0.101     -0.023      0.981      -0.200       0.196\n",
      "L5.生产增加值       0.0014      0.027      0.051      0.959      -0.052       0.055\n",
      "L6.经济一致指数     -0.0885      0.113     -0.780      0.436      -0.311       0.134\n",
      "L6.经济先行指数     -0.1596      0.123     -1.297      0.195      -0.401       0.082\n",
      "L6.生产增加值       0.0094      0.017      0.568      0.570      -0.023       0.042\n",
      "                          Results for equation 生产增加值                          \n",
      "==============================================================================\n",
      "                 coef    std err          z      P>|z|      [0.025      0.975]\n",
      "------------------------------------------------------------------------------\n",
      "L1.经济一致指数      1.6036      0.501      3.204      0.001       0.623       2.585\n",
      "L1.经济先行指数      0.8726      0.751      1.162      0.245      -0.599       2.345\n",
      "L1.生产增加值      -1.1698      0.072    -16.299      0.000      -1.310      -1.029\n",
      "L2.经济一致指数      0.4422      0.654      0.676      0.499      -0.841       1.725\n",
      "L2.经济先行指数      0.2733      0.916      0.298      0.765      -1.522       2.069\n",
      "L2.生产增加值      -0.9803      0.139     -7.050      0.000      -1.253      -0.708\n",
      "L3.经济一致指数     -0.1546      0.950     -0.163      0.871      -2.017       1.708\n",
      "L3.经济先行指数      1.0187      0.864      1.178      0.239      -0.676       2.713\n",
      "L3.生产增加值      -0.6536      0.170     -3.840      0.000      -0.987      -0.320\n",
      "L4.经济一致指数     -0.1586      1.340     -0.118      0.906      -2.786       2.468\n",
      "L4.经济先行指数      0.8234      1.280      0.643      0.520      -1.685       3.332\n",
      "L4.生产增加值      -0.3374      0.198     -1.705      0.088      -0.725       0.050\n",
      "L5.经济一致指数     -0.4428      1.333     -0.332      0.740      -3.056       2.170\n",
      "L5.经济先行指数      0.3051      1.289      0.237      0.813      -2.220       2.831\n",
      "L5.生产增加值      -0.1385      0.210     -0.661      0.509      -0.550       0.272\n",
      "L6.经济一致指数     -0.4028      1.164     -0.346      0.729      -2.684       1.879\n",
      "L6.经济先行指数      0.7779      0.735      1.058      0.290      -0.663       2.219\n",
      "L6.生产增加值      -0.0304      0.159     -0.191      0.849      -0.343       0.282\n",
      "                                 Error covariance matrix                                  \n",
      "==========================================================================================\n",
      "                             coef    std err          z      P>|z|      [0.025      0.975]\n",
      "------------------------------------------------------------------------------------------\n",
      "sqrt.var.经济一致指数            0.5097      0.021     24.344      0.000       0.469       0.551\n",
      "sqrt.cov.经济一致指数.经济先行指数     0.1535      0.046      3.338      0.001       0.063       0.244\n",
      "sqrt.var.经济先行指数            0.3738      0.024     15.449      0.000       0.326       0.421\n",
      "sqrt.cov.经济一致指数.生产增加值      0.4662      0.425      1.096      0.273      -0.367       1.300\n",
      "sqrt.cov.经济先行指数.生产增加值      0.0216      0.310      0.070      0.944      -0.587       0.630\n",
      "sqrt.var.生产增加值             2.5982      0.109     23.890      0.000       2.385       2.811\n",
      "==========================================================================================\n",
      "\n",
      "Warnings:\n",
      "[1] Covariance matrix calculated using the outer product of gradients (complex-step).\n"
     ]
    }
   ],
   "source": [
    "#建立对象，dataframe就是前面的data，varLagNum就是你自己定的滞后阶数\n",
    "orgMod = sm.tsa.VARMAX(testdata,order=(6,0),trend='nc',exog=None)\n",
    "#估计：就是模型\n",
    "fitMod = orgMod.fit(maxiter=1000,disp=False)\n",
    "# 打印统计结果\n",
    "print(fitMod.summary())"
   ]
  },
  {
   "cell_type": "markdown",
   "metadata": {},
   "source": [
    "<font size=4 color= \"08#0000\" face=\"宋体\">**系数平稳性检验：CUSUM检验**</font>"
   ]
  },
  {
   "cell_type": "markdown",
   "metadata": {},
   "source": [
    "<font size=3 face=\"宋体\"> $\\ $ $\\ $ $\\ $ $\\ $Python无法像EVIEWS那样算$AR$根，进而画出$AR$图，但是Python可以进行CUSUM检验，返回3个变量，第二个值是P-value，但是这里需要强调的是CUSUM检验的原假设$H_0$是：系数平稳，备择假设是系数非平稳。**因此只有CUSUM的检验结果无法拒绝原假设才算通过，即$P$值要满足$P>0.05$。**</font >"
   ]
  },
  {
   "cell_type": "code",
   "execution_count": 20,
   "metadata": {},
   "outputs": [
    {
     "data": {
      "text/plain": [
       "(0.9663508397811797, 0.3078280377085388, [(1, 1.63), (5, 1.36), (10, 1.22)])"
      ]
     },
     "execution_count": 20,
     "metadata": {},
     "output_type": "execute_result"
    }
   ],
   "source": [
    "# 获得模型残差\n",
    "resid = fitMod.resid  #因为涉及到两个变量，两个回归方程对应两个残差序列\n",
    "result = {'fitMod':fitMod,'resid':resid} #建立字典，分别保存模型结果和残差序列。\n",
    "#从函数注释中可以知道需要输入变量的类型，以下函数需要输入的是narray.\n",
    "resid=np.array(resid)\n",
    "result = statsmodels.stats.diagnostic.breaks_cusumolsresid(resid)\n",
    "result#分别对应统计量"
   ]
  },
  {
   "cell_type": "markdown",
   "metadata": {},
   "source": [
    "<font size=4 color=\"08#0000\" face= \"宋体\"> **脉冲响应图**</font>"
   ]
  },
  {
   "cell_type": "code",
   "execution_count": 63,
   "metadata": {},
   "outputs": [
    {
     "data": {
      "image/png": "[encoded data removed]",
      "text/plain": [
       "<Figure size 864x576 with 1 Axes>"
      ]
     },
     "metadata": {
      "needs_background": "light"
     },
     "output_type": "display_data"
    }
   ],
   "source": [
    "# orthogonalized=True，代表采用乔里斯基正交 \n",
    "terms=5\n",
    "ax = fitMod.impulse_responses(terms,orthogonalized=True).plot(figsize=(12, 8))\n",
    "plt.show()"
   ]
  },
  {
   "cell_type": "code",
   "execution_count": 64,
   "metadata": {},
   "outputs": [
    {
     "name": "stderr",
     "output_type": "stream",
     "text": [
      "D:\\Software Download\\Ananconda\\anaconda\\lib\\site-packages\\statsmodels\\tsa\\base\\tsa_model.py:165: ValueWarning: No frequency information was provided, so inferred frequency M will be used.\n",
      "  % freq, ValueWarning)\n"
     ]
    },
    {
     "name": "stdout",
     "output_type": "stream",
     "text": [
      "FEVD for CPI同比\n",
      "        CPI同比     PPI同比      M2同比\n",
      "0    1.000000  0.000000  0.000000\n",
      "1    0.964283  0.021233  0.014484\n",
      "2    0.951401  0.026328  0.022270\n",
      "3    0.947258  0.028210  0.024532\n",
      "4    0.946547  0.028926  0.024527\n",
      "5    0.946368  0.029033  0.024599\n",
      "6    0.946359  0.029044  0.024597\n",
      "7    0.946359  0.029043  0.024598\n",
      "8    0.946357  0.029045  0.024598\n",
      "9    0.946356  0.029046  0.024598\n",
      "\n",
      "FEVD for PPI同比\n",
      "        CPI同比     PPI同比      M2同比\n",
      "0    0.068963  0.931037  0.000000\n",
      "1    0.137246  0.854844  0.007910\n",
      "2    0.183423  0.795924  0.020653\n",
      "3    0.202259  0.771467  0.026274\n",
      "4    0.208643  0.763357  0.028000\n",
      "5    0.209875  0.761794  0.028331\n",
      "6    0.209873  0.761794  0.028334\n",
      "7    0.209810  0.761859  0.028331\n",
      "8    0.209815  0.761843  0.028342\n",
      "9    0.209833  0.761815  0.028352\n",
      "\n",
      "FEVD for M2同比\n",
      "        CPI同比     PPI同比      M2同比\n",
      "0    0.000086  0.000094  0.999820\n",
      "1    0.053857  0.004191  0.941952\n",
      "2    0.062535  0.036889  0.900576\n",
      "3    0.074142  0.056217  0.869642\n",
      "4    0.079983  0.064406  0.855611\n",
      "5    0.082481  0.066584  0.850935\n",
      "6    0.083236  0.066881  0.849883\n",
      "7    0.083382  0.066878  0.849740\n",
      "8    0.083392  0.066889  0.849720\n",
      "9    0.083390  0.066909  0.849701\n",
      "\n",
      "\n",
      "None\n"
     ]
    },
    {
     "data": {
      "image/png": "[encoded data removed]",
      "text/plain": [
       "<Figure size 864x1152 with 3 Axes>"
      ]
     },
     "metadata": {
      "needs_background": "light"
     },
     "output_type": "display_data"
    }
   ],
   "source": [
    "md = sm.tsa.VAR(testdata)\n",
    "re = md.fit(2)\n",
    "fevd = re.fevd(10)\n",
    "# 打印出方差分解的结果\n",
    "print(fevd.summary())\n",
    "# 画图\n",
    "fevd.plot(figsize=(12, 16))\n",
    "plt.show()"
   ]
  }
 ],
 "metadata": {
  "kernelspec": {
   "display_name": "Python 3",
   "language": "python",
   "name": "python3"
  },
  "language_info": {
   "codemirror_mode": {
    "name": "ipython",
    "version": 3
   },
   "file_extension": ".py",
   "mimetype": "text/x-python",
   "name": "python",
   "nbconvert_exporter": "python",
   "pygments_lexer": "ipython3",
   "version": "3.7.4"
  }
 },
 "nbformat": 4,
 "nbformat_minor": 2
}
