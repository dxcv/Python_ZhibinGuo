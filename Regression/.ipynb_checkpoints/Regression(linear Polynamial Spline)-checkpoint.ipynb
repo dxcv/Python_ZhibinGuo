{
 "cells": [
  {
   "cell_type": "markdown",
   "metadata": {},
   "source": [
    "<font size=4 color=\"08#0000\" face=\"Times New Roman\">Regression of Python</font>\n"
   ]
  },
  {
   "cell_type": "markdown",
   "metadata": {},
   "source": [
    "<font size=3 face=\"times new roman\">The linear regression assumes the linear relationship between the dependent variable and the independent variable. But in reality, it may not true.In order to  improve the drawbacks, the polynomial regression is used, but in the same time, another problem **\"overfitting\"** comes out. The problem is that our model performs well in the sample data set, while performs badly in another data set. In this section, we are going to introduce the following methods.<br />\n",
    "   1、Linear Regression<br />\n",
    "   2、Polynomial Regression<br />\n",
    "   3、Spline Regression.<br/>\n",
    "\n",
    "The coding is refered to https://blog.csdn.net/tMb8Z9Vdm66wH68VX1/article/details/79922750</font> "
   ]
  },
  {
   "cell_type": "markdown",
   "metadata": {},
   "source": [
    "<font size=3 face=\"times new roman\">**Import Data**<font>"
   ]
  },
  {
   "cell_type": "code",
   "execution_count": 297,
   "metadata": {},
   "outputs": [],
   "source": [
    "import os\n",
    "import pandas as pd\n",
    "import numpy as np\n",
    "os.chdir(\"D:\\各种材料\\研究生\\公众号\\三、美林时钟模型\")\n",
    "data= pd.read_excel(r\"D:\\各种材料\\研究生\\公众号\\三、美林时钟模型\\模型改进的探索.xlsx\")"
   ]
  },
  {
   "cell_type": "code",
   "execution_count": 298,
   "metadata": {},
   "outputs": [
    {
     "data": {
      "text/html": [
       "<div>\n",
       "<style scoped>\n",
       "    .dataframe tbody tr th:only-of-type {\n",
       "        vertical-align: middle;\n",
       "    }\n",
       "\n",
       "    .dataframe tbody tr th {\n",
       "        vertical-align: top;\n",
       "    }\n",
       "\n",
       "    .dataframe thead th {\n",
       "        text-align: right;\n",
       "    }\n",
       "</style>\n",
       "<table border=\"1\" class=\"dataframe\">\n",
       "  <thead>\n",
       "    <tr style=\"text-align: right;\">\n",
       "      <th></th>\n",
       "      <th>M2:同比</th>\n",
       "      <th>CPI:当月同比</th>\n",
       "      <th>宏观经济景气指数:一致指数</th>\n",
       "      <th>宏观经济景气指数:先行指数</th>\n",
       "      <th>美元指数</th>\n",
       "      <th>中债国债到期收益率:3个月</th>\n",
       "    </tr>\n",
       "    <tr>\n",
       "      <th>日期</th>\n",
       "      <th></th>\n",
       "      <th></th>\n",
       "      <th></th>\n",
       "      <th></th>\n",
       "      <th></th>\n",
       "      <th></th>\n",
       "    </tr>\n",
       "  </thead>\n",
       "  <tbody>\n",
       "    <tr>\n",
       "      <td>2002-01-31</td>\n",
       "      <td>13.1</td>\n",
       "      <td>-1.0</td>\n",
       "      <td>94.93</td>\n",
       "      <td>100.72</td>\n",
       "      <td>-5.00</td>\n",
       "      <td>2.2285</td>\n",
       "    </tr>\n",
       "    <tr>\n",
       "      <td>2002-02-28</td>\n",
       "      <td>13.0</td>\n",
       "      <td>0.0</td>\n",
       "      <td>95.01</td>\n",
       "      <td>100.75</td>\n",
       "      <td>-4.70</td>\n",
       "      <td>1.9435</td>\n",
       "    </tr>\n",
       "    <tr>\n",
       "      <td>2002-03-31</td>\n",
       "      <td>14.4</td>\n",
       "      <td>-0.8</td>\n",
       "      <td>95.45</td>\n",
       "      <td>100.67</td>\n",
       "      <td>-4.50</td>\n",
       "      <td>1.7682</td>\n",
       "    </tr>\n",
       "    <tr>\n",
       "      <td>2002-04-30</td>\n",
       "      <td>14.1</td>\n",
       "      <td>-1.3</td>\n",
       "      <td>96.54</td>\n",
       "      <td>100.71</td>\n",
       "      <td>-3.38</td>\n",
       "      <td>1.8773</td>\n",
       "    </tr>\n",
       "    <tr>\n",
       "      <td>2002-05-31</td>\n",
       "      <td>14.0</td>\n",
       "      <td>-1.1</td>\n",
       "      <td>96.98</td>\n",
       "      <td>100.82</td>\n",
       "      <td>-2.74</td>\n",
       "      <td>1.7988</td>\n",
       "    </tr>\n",
       "    <tr>\n",
       "      <td>...</td>\n",
       "      <td>...</td>\n",
       "      <td>...</td>\n",
       "      <td>...</td>\n",
       "      <td>...</td>\n",
       "      <td>...</td>\n",
       "      <td>...</td>\n",
       "    </tr>\n",
       "    <tr>\n",
       "      <td>2019-06-30</td>\n",
       "      <td>8.5</td>\n",
       "      <td>2.7</td>\n",
       "      <td>97.20</td>\n",
       "      <td>101.40</td>\n",
       "      <td>-0.30</td>\n",
       "      <td>2.1870</td>\n",
       "    </tr>\n",
       "    <tr>\n",
       "      <td>2019-07-31</td>\n",
       "      <td>8.1</td>\n",
       "      <td>2.8</td>\n",
       "      <td>96.90</td>\n",
       "      <td>101.30</td>\n",
       "      <td>-0.70</td>\n",
       "      <td>2.3100</td>\n",
       "    </tr>\n",
       "    <tr>\n",
       "      <td>2019-08-31</td>\n",
       "      <td>8.2</td>\n",
       "      <td>2.8</td>\n",
       "      <td>96.60</td>\n",
       "      <td>101.30</td>\n",
       "      <td>-1.30</td>\n",
       "      <td>2.4480</td>\n",
       "    </tr>\n",
       "    <tr>\n",
       "      <td>2019-09-30</td>\n",
       "      <td>8.4</td>\n",
       "      <td>3.0</td>\n",
       "      <td>96.40</td>\n",
       "      <td>101.20</td>\n",
       "      <td>-2.00</td>\n",
       "      <td>2.2846</td>\n",
       "    </tr>\n",
       "    <tr>\n",
       "      <td>2019-10-31</td>\n",
       "      <td>8.4</td>\n",
       "      <td>3.8</td>\n",
       "      <td>96.30</td>\n",
       "      <td>101.20</td>\n",
       "      <td>-2.60</td>\n",
       "      <td>2.4819</td>\n",
       "    </tr>\n",
       "  </tbody>\n",
       "</table>\n",
       "<p>214 rows × 6 columns</p>\n",
       "</div>"
      ],
      "text/plain": [
       "            M2:同比  CPI:当月同比  宏观经济景气指数:一致指数  宏观经济景气指数:先行指数  美元指数  中债国债到期收益率:3个月\n",
       "日期                                                                            \n",
       "2002-01-31   13.1      -1.0          94.93         100.72 -5.00         2.2285\n",
       "2002-02-28   13.0       0.0          95.01         100.75 -4.70         1.9435\n",
       "2002-03-31   14.4      -0.8          95.45         100.67 -4.50         1.7682\n",
       "2002-04-30   14.1      -1.3          96.54         100.71 -3.38         1.8773\n",
       "2002-05-31   14.0      -1.1          96.98         100.82 -2.74         1.7988\n",
       "...           ...       ...            ...            ...   ...            ...\n",
       "2019-06-30    8.5       2.7          97.20         101.40 -0.30         2.1870\n",
       "2019-07-31    8.1       2.8          96.90         101.30 -0.70         2.3100\n",
       "2019-08-31    8.2       2.8          96.60         101.30 -1.30         2.4480\n",
       "2019-09-30    8.4       3.0          96.40         101.20 -2.00         2.2846\n",
       "2019-10-31    8.4       3.8          96.30         101.20 -2.60         2.4819\n",
       "\n",
       "[214 rows x 6 columns]"
      ]
     },
     "execution_count": 298,
     "metadata": {},
     "output_type": "execute_result"
    }
   ],
   "source": [
    "data=data.dropna(0)\n",
    "data.index=data['日期']\n",
    "del data['日期']\n",
    "data"
   ]
  },
  {
   "cell_type": "markdown",
   "metadata": {},
   "source": [
    "<font size=3 >对数据进行标准化处理</font>"
   ]
  },
  {
   "cell_type": "code",
   "execution_count": 350,
   "metadata": {
    "scrolled": true
   },
   "outputs": [
    {
     "data": {
      "text/html": [
       "<div>\n",
       "<style scoped>\n",
       "    .dataframe tbody tr th:only-of-type {\n",
       "        vertical-align: middle;\n",
       "    }\n",
       "\n",
       "    .dataframe tbody tr th {\n",
       "        vertical-align: top;\n",
       "    }\n",
       "\n",
       "    .dataframe thead th {\n",
       "        text-align: right;\n",
       "    }\n",
       "</style>\n",
       "<table border=\"1\" class=\"dataframe\">\n",
       "  <thead>\n",
       "    <tr style=\"text-align: right;\">\n",
       "      <th></th>\n",
       "      <th>M2:同比</th>\n",
       "      <th>CPI:当月同比</th>\n",
       "      <th>宏观经济景气指数:一致指数</th>\n",
       "      <th>宏观经济景气指数:先行指数</th>\n",
       "      <th>美元指数</th>\n",
       "      <th>中债国债到期收益率:3个月</th>\n",
       "    </tr>\n",
       "    <tr>\n",
       "      <th>日期</th>\n",
       "      <th></th>\n",
       "      <th></th>\n",
       "      <th></th>\n",
       "      <th></th>\n",
       "      <th></th>\n",
       "      <th></th>\n",
       "    </tr>\n",
       "  </thead>\n",
       "  <tbody>\n",
       "    <tr>\n",
       "      <td>2002-01-31</td>\n",
       "      <td>-0.459201</td>\n",
       "      <td>-1.704478</td>\n",
       "      <td>-1.773424</td>\n",
       "      <td>-0.531878</td>\n",
       "      <td>-1.285579</td>\n",
       "      <td>-0.245275</td>\n",
       "    </tr>\n",
       "    <tr>\n",
       "      <td>2002-02-28</td>\n",
       "      <td>-0.480646</td>\n",
       "      <td>-1.203487</td>\n",
       "      <td>-1.743817</td>\n",
       "      <td>-0.515870</td>\n",
       "      <td>-1.229664</td>\n",
       "      <td>-0.632894</td>\n",
       "    </tr>\n",
       "    <tr>\n",
       "      <td>2002-03-31</td>\n",
       "      <td>-0.180418</td>\n",
       "      <td>-1.604280</td>\n",
       "      <td>-1.580977</td>\n",
       "      <td>-0.558558</td>\n",
       "      <td>-1.192387</td>\n",
       "      <td>-0.871314</td>\n",
       "    </tr>\n",
       "    <tr>\n",
       "      <td>2002-04-30</td>\n",
       "      <td>-0.244752</td>\n",
       "      <td>-1.854776</td>\n",
       "      <td>-1.177580</td>\n",
       "      <td>-0.537214</td>\n",
       "      <td>-0.983639</td>\n",
       "      <td>-0.722931</td>\n",
       "    </tr>\n",
       "    <tr>\n",
       "      <td>2002-05-31</td>\n",
       "      <td>-0.266197</td>\n",
       "      <td>-1.754577</td>\n",
       "      <td>-1.014741</td>\n",
       "      <td>-0.478518</td>\n",
       "      <td>-0.864354</td>\n",
       "      <td>-0.829696</td>\n",
       "    </tr>\n",
       "  </tbody>\n",
       "</table>\n",
       "</div>"
      ],
      "text/plain": [
       "               M2:同比  CPI:当月同比  宏观经济景气指数:一致指数  宏观经济景气指数:先行指数      美元指数  \\\n",
       "日期                                                                       \n",
       "2002-01-31 -0.459201 -1.704478      -1.773424      -0.531878 -1.285579   \n",
       "2002-02-28 -0.480646 -1.203487      -1.743817      -0.515870 -1.229664   \n",
       "2002-03-31 -0.180418 -1.604280      -1.580977      -0.558558 -1.192387   \n",
       "2002-04-30 -0.244752 -1.854776      -1.177580      -0.537214 -0.983639   \n",
       "2002-05-31 -0.266197 -1.754577      -1.014741      -0.478518 -0.864354   \n",
       "\n",
       "            中债国债到期收益率:3个月  \n",
       "日期                         \n",
       "2002-01-31      -0.245275  \n",
       "2002-02-28      -0.632894  \n",
       "2002-03-31      -0.871314  \n",
       "2002-04-30      -0.722931  \n",
       "2002-05-31      -0.829696  "
      ]
     },
     "execution_count": 350,
     "metadata": {},
     "output_type": "execute_result"
    }
   ],
   "source": [
    "data=(data-data.mean())/data.std()\n",
    "data.head()"
   ]
  },
  {
   "cell_type": "code",
   "execution_count": 300,
   "metadata": {},
   "outputs": [],
   "source": [
    "import statsmodels.api as sm\n",
    "import matplotlib.pyplot as plt "
   ]
  },
  {
   "cell_type": "code",
   "execution_count": 301,
   "metadata": {},
   "outputs": [
    {
     "data": {
      "image/png": "[encoded data removed]",
      "text/plain": [
       "<Figure size 432x288 with 1 Axes>"
      ]
     },
     "metadata": {
      "needs_background": "light"
     },
     "output_type": "display_data"
    }
   ],
   "source": [
    "data_y=data['中债国债到期收益率:3个月']\n",
    "data_x=data['M2:同比']\n",
    "#将数据划分为训练集和验证集\n",
    "from sklearn.model_selection import train_test_split  \n",
    "train_x,valid_x,train_y,valid_y=train_test_split(data_x,data_y, test_size=0.33,random_state=1) #将原始数据1/3作为测试集，2/3作为训练集。\n",
    "import matplotlib.pyplot as plt\n",
    "plt.scatter(train_x, train_y, facecolor='None', edgecolor='r', alpha=0.3) \n",
    "plt.show()"
   ]
  },
  {
   "cell_type": "code",
   "execution_count": 302,
   "metadata": {},
   "outputs": [
    {
     "name": "stdout",
     "output_type": "stream",
     "text": [
      "[[-0.56591291]]\n",
      "[-0.03635794]\n"
     ]
    }
   ],
   "source": [
    "from sklearn.linear_model import LinearRegression\n",
    "model= LinearRegression()\n",
    "train_x1=np.array(train_x)\n",
    "train_y1=np.array(train_y)\n",
    "train_x1=train_x1.reshape(-1,1)\n",
    "train_y1=train_y1.reshape(-1,1)\n",
    "model.fit(train_x1,train_y1)\n",
    "print (model.coef_)#回归的系数\n",
    "print(model.intercept_)#回归的截距项"
   ]
  },
  {
   "cell_type": "code",
   "execution_count": 306,
   "metadata": {},
   "outputs": [],
   "source": [
    "valid_x1=(np.array(valid_x)).reshape(-1,1)\n",
    "valid_y1=(np.array(valid_y)).reshape(-1,1)\n",
    "pred1=model.predict(valid_x1)"
   ]
  },
  {
   "cell_type": "code",
   "execution_count": 307,
   "metadata": {},
   "outputs": [
    {
     "data": {
      "image/png": "[encoded data removed]",
      "text/plain": [
       "<Figure size 432x288 with 1 Axes>"
      ]
     },
     "metadata": {
      "needs_background": "light"
     },
     "output_type": "display_data"
    }
   ],
   "source": [
    "xp= np.linspace(valid_x1.min(),valid_x1.max(),70)\n",
    "xp= xp.reshape(-1,1)\n",
    "pred_plot= model.predict(xp)\n",
    "plt.scatter(valid_x1,valid_y1, facecolor='None', edgecolor='k', alpha=0.3)\n",
    "plt.plot(xp,pred_plot)\n",
    "plt.show()"
   ]
  },
  {
   "cell_type": "code",
   "execution_count": 219,
   "metadata": {},
   "outputs": [
    {
     "name": "stdout",
     "output_type": "stream",
     "text": [
      "0.8682218251307515\n"
     ]
    }
   ],
   "source": [
    "#计算mean_squared_error\n",
    "from sklearn.metrics import mean_squared_error\n",
    "from math import sqrt \n",
    "rms=sqrt(mean_squared_error(valid_y,pre))\n",
    "print(rms)"
   ]
  },
  {
   "cell_type": "markdown",
   "metadata": {},
   "source": [
    "<font size=4 color=\"08#0000\" face=times new roman>多项式回归</font>"
   ]
  },
  {
   "cell_type": "code",
   "execution_count": 309,
   "metadata": {},
   "outputs": [
    {
     "data": {
      "text/plain": [
       "日期\n",
       "2006-06-30    0.683811\n",
       "2011-03-31    0.291370\n",
       "2014-07-31   -0.373421\n",
       "2014-02-28   -0.416311\n",
       "2009-12-31    2.667462\n",
       "                ...   \n",
       "2018-12-31   -1.531445\n",
       "2013-06-30   -0.266197\n",
       "2008-01-31    0.793180\n",
       "2013-09-30   -0.223307\n",
       "2005-02-28   -0.287642\n",
       "Name: M2:同比, Length: 143, dtype: float64"
      ]
     },
     "execution_count": 309,
     "metadata": {},
     "output_type": "execute_result"
    }
   ],
   "source": [
    "train_x"
   ]
  },
  {
   "cell_type": "code",
   "execution_count": 311,
   "metadata": {},
   "outputs": [
    {
     "data": {
      "image/png": "[encoded data removed]",
      "text/plain": [
       "<Figure size 432x288 with 1 Axes>"
      ]
     },
     "metadata": {
      "needs_background": "light"
     },
     "output_type": "display_data"
    }
   ],
   "source": [
    "train_x2=[]\n",
    "[train_x2.append(item[0])  for item in train_x1]\n",
    "train_y2=[]\n",
    "[train_y2.append(item[0])  for item in train_y1] #transfer the original(2D) to 1D\n",
    "weights= np.polyfit(train_x2,train_y2,2)# return the regression coef,从最高次到零次。\n",
    "model=np.poly1d(weights)#生成给定系数的多项式。\n",
    "xp2=np.linspace(valid_x.min(),valid_x.max(),70)\n",
    "pred2_plot=model(xp2)\n",
    "plt.scatter(valid_x,valid_y,facecolor='None', edgecolor='k',alpha=0.3)\n",
    "plt.plot(xp2,pred2_plot)\n",
    "plt.show()"
   ]
  },
  {
   "cell_type": "markdown",
   "metadata": {},
   "source": [
    "<font size=4 face=\"宋体\" color=\"08#0000\">**样条回归**</font>"
   ]
  },
  {
   "cell_type": "markdown",
   "metadata": {},
   "source": [
    "<font size=3 face=\"宋体\"> 与上述两种回归不同，样条回归并没有将模型运用到整个数据集中，而是将数据集划分为多个区间，为每个区间单独拟合一个模型，可以用分段函数对每个区间的模型进行建模。</font>"
   ]
  },
  {
   "cell_type": "markdown",
   "metadata": {},
   "source": [
    "<font size=3 face=\"宋体\">**分段函数** </br>\n",
    "首先需要将数据集分成K份，让然后构造K个示性函数，即在某段上取1，其他的区域为0，这样就形成了自变量范围上的所有基函数。\n",
    "</font>"
   ]
  },
  {
   "cell_type": "code",
   "execution_count": 320,
   "metadata": {},
   "outputs": [
    {
     "data": {
      "text/plain": [
       "pandas.core.arrays.categorical.Categorical"
      ]
     },
     "execution_count": 320,
     "metadata": {},
     "output_type": "execute_result"
    }
   ],
   "source": [
    "type(df_cut)"
   ]
  },
  {
   "cell_type": "code",
   "execution_count": 348,
   "metadata": {},
   "outputs": [
    {
     "data": {
      "text/html": [
       "<div>\n",
       "<style scoped>\n",
       "    .dataframe tbody tr th:only-of-type {\n",
       "        vertical-align: middle;\n",
       "    }\n",
       "\n",
       "    .dataframe tbody tr th {\n",
       "        vertical-align: top;\n",
       "    }\n",
       "\n",
       "    .dataframe thead th {\n",
       "        text-align: right;\n",
       "    }\n",
       "</style>\n",
       "<table border=\"1\" class=\"dataframe\">\n",
       "  <thead>\n",
       "    <tr style=\"text-align: right;\">\n",
       "      <th></th>\n",
       "      <th>M2</th>\n",
       "      <th>M2_Cut</th>\n",
       "      <th>利率</th>\n",
       "    </tr>\n",
       "    <tr>\n",
       "      <th>日期</th>\n",
       "      <th></th>\n",
       "      <th></th>\n",
       "      <th></th>\n",
       "    </tr>\n",
       "  </thead>\n",
       "  <tbody>\n",
       "    <tr>\n",
       "      <td>2006-06-30</td>\n",
       "      <td>0.683811</td>\n",
       "      <td>(-0.41, 0.732]</td>\n",
       "      <td>-0.916468</td>\n",
       "    </tr>\n",
       "    <tr>\n",
       "      <td>2011-03-31</td>\n",
       "      <td>0.291370</td>\n",
       "      <td>(-0.41, 0.732]</td>\n",
       "      <td>0.284335</td>\n",
       "    </tr>\n",
       "    <tr>\n",
       "      <td>2014-07-31</td>\n",
       "      <td>-0.373421</td>\n",
       "      <td>(-0.41, 0.732]</td>\n",
       "      <td>1.597209</td>\n",
       "    </tr>\n",
       "    <tr>\n",
       "      <td>2014-02-28</td>\n",
       "      <td>-0.416311</td>\n",
       "      <td>(-1.557, -0.41]</td>\n",
       "      <td>0.969673</td>\n",
       "    </tr>\n",
       "    <tr>\n",
       "      <td>2009-12-31</td>\n",
       "      <td>2.667462</td>\n",
       "      <td>(1.875, 3.017]</td>\n",
       "      <td>-1.605206</td>\n",
       "    </tr>\n",
       "    <tr>\n",
       "      <td>...</td>\n",
       "      <td>...</td>\n",
       "      <td>...</td>\n",
       "      <td>...</td>\n",
       "    </tr>\n",
       "    <tr>\n",
       "      <td>2018-12-31</td>\n",
       "      <td>-1.531445</td>\n",
       "      <td>(-1.557, -0.41]</td>\n",
       "      <td>0.280799</td>\n",
       "    </tr>\n",
       "    <tr>\n",
       "      <td>2013-06-30</td>\n",
       "      <td>-0.266197</td>\n",
       "      <td>(-0.41, 0.732]</td>\n",
       "      <td>2.258065</td>\n",
       "    </tr>\n",
       "    <tr>\n",
       "      <td>2008-01-31</td>\n",
       "      <td>0.793180</td>\n",
       "      <td>(0.732, 1.875]</td>\n",
       "      <td>1.070590</td>\n",
       "    </tr>\n",
       "    <tr>\n",
       "      <td>2013-09-30</td>\n",
       "      <td>-0.223307</td>\n",
       "      <td>(-0.41, 0.732]</td>\n",
       "      <td>1.530021</td>\n",
       "    </tr>\n",
       "    <tr>\n",
       "      <td>2005-02-28</td>\n",
       "      <td>-0.287642</td>\n",
       "      <td>(-0.41, 0.732]</td>\n",
       "      <td>0.097870</td>\n",
       "    </tr>\n",
       "  </tbody>\n",
       "</table>\n",
       "<p>143 rows × 3 columns</p>\n",
       "</div>"
      ],
      "text/plain": [
       "                  M2           M2_Cut        利率\n",
       "日期                                             \n",
       "2006-06-30  0.683811   (-0.41, 0.732] -0.916468\n",
       "2011-03-31  0.291370   (-0.41, 0.732]  0.284335\n",
       "2014-07-31 -0.373421   (-0.41, 0.732]  1.597209\n",
       "2014-02-28 -0.416311  (-1.557, -0.41]  0.969673\n",
       "2009-12-31  2.667462   (1.875, 3.017] -1.605206\n",
       "...              ...              ...       ...\n",
       "2018-12-31 -1.531445  (-1.557, -0.41]  0.280799\n",
       "2013-06-30 -0.266197   (-0.41, 0.732]  2.258065\n",
       "2008-01-31  0.793180   (0.732, 1.875]  1.070590\n",
       "2013-09-30 -0.223307   (-0.41, 0.732]  1.530021\n",
       "2005-02-28 -0.287642   (-0.41, 0.732]  0.097870\n",
       "\n",
       "[143 rows x 3 columns]"
      ]
     },
     "execution_count": 348,
     "metadata": {},
     "output_type": "execute_result"
    }
   ],
   "source": [
    "df_cut,bins=pd.cut(train_x2,4,retbins=True, right= True)#df_cut记录了每个样本点所在的区间，bins记录区间端点。\n",
    "df_cut.value_counts()#获得每个区间的样本数\n",
    "df_cut=pd.DataFrame(df_cut,index=train_x.index)\n",
    "df_steps=pd.concat([train_x,df_cut,train_y],axis=1)\n",
    "df_steps.columns=[\"M2\",\"M2_Cut\",\"利率\"]\n",
    "df_steps"
   ]
  },
  {
   "cell_type": "code",
   "execution_count": 349,
   "metadata": {},
   "outputs": [
    {
     "data": {
      "text/html": [
       "<div>\n",
       "<style scoped>\n",
       "    .dataframe tbody tr th:only-of-type {\n",
       "        vertical-align: middle;\n",
       "    }\n",
       "\n",
       "    .dataframe tbody tr th {\n",
       "        vertical-align: top;\n",
       "    }\n",
       "\n",
       "    .dataframe thead th {\n",
       "        text-align: right;\n",
       "    }\n",
       "</style>\n",
       "<table border=\"1\" class=\"dataframe\">\n",
       "  <thead>\n",
       "    <tr style=\"text-align: right;\">\n",
       "      <th></th>\n",
       "      <th>0_(-1.557, -0.41]</th>\n",
       "      <th>0_(-0.41, 0.732]</th>\n",
       "      <th>0_(0.732, 1.875]</th>\n",
       "      <th>0_(1.875, 3.017]</th>\n",
       "    </tr>\n",
       "    <tr>\n",
       "      <th>日期</th>\n",
       "      <th></th>\n",
       "      <th></th>\n",
       "      <th></th>\n",
       "      <th></th>\n",
       "    </tr>\n",
       "  </thead>\n",
       "  <tbody>\n",
       "    <tr>\n",
       "      <td>2006-06-30</td>\n",
       "      <td>0</td>\n",
       "      <td>1</td>\n",
       "      <td>0</td>\n",
       "      <td>0</td>\n",
       "    </tr>\n",
       "    <tr>\n",
       "      <td>2011-03-31</td>\n",
       "      <td>0</td>\n",
       "      <td>1</td>\n",
       "      <td>0</td>\n",
       "      <td>0</td>\n",
       "    </tr>\n",
       "    <tr>\n",
       "      <td>2014-07-31</td>\n",
       "      <td>0</td>\n",
       "      <td>1</td>\n",
       "      <td>0</td>\n",
       "      <td>0</td>\n",
       "    </tr>\n",
       "    <tr>\n",
       "      <td>2014-02-28</td>\n",
       "      <td>1</td>\n",
       "      <td>0</td>\n",
       "      <td>0</td>\n",
       "      <td>0</td>\n",
       "    </tr>\n",
       "    <tr>\n",
       "      <td>2009-12-31</td>\n",
       "      <td>0</td>\n",
       "      <td>0</td>\n",
       "      <td>0</td>\n",
       "      <td>1</td>\n",
       "    </tr>\n",
       "  </tbody>\n",
       "</table>\n",
       "</div>"
      ],
      "text/plain": [
       "            0_(-1.557, -0.41]  0_(-0.41, 0.732]  0_(0.732, 1.875]  \\\n",
       "日期                                                                  \n",
       "2006-06-30                  0                 1                 0   \n",
       "2011-03-31                  0                 1                 0   \n",
       "2014-07-31                  0                 1                 0   \n",
       "2014-02-28                  1                 0                 0   \n",
       "2009-12-31                  0                 0                 0   \n",
       "\n",
       "            0_(1.875, 3.017]  \n",
       "日期                            \n",
       "2006-06-30                 0  \n",
       "2011-03-31                 0  \n",
       "2014-07-31                 0  \n",
       "2014-02-28                 0  \n",
       "2009-12-31                 1  "
      ]
     },
     "execution_count": 349,
     "metadata": {},
     "output_type": "execute_result"
    }
   ],
   "source": [
    "df_steps_dummies = pd.get_dummies(df_cut)##df_cut中就包含了所有的标签，相当于判断dataframe中每个元素属于哪一个标签\n",
    "df_steps_dummies.head()"
   ]
  },
  {
   "cell_type": "code",
   "execution_count": 369,
   "metadata": {},
   "outputs": [
    {
     "data": {
      "text/plain": [
       "0     0.060830\n",
       "1     0.376409\n",
       "2    -0.723107\n",
       "3    -0.723107\n",
       "4    -0.723107\n",
       "        ...   \n",
       "66    0.376409\n",
       "67    0.060830\n",
       "68    0.376409\n",
       "69    0.060830\n",
       "70    0.060830\n",
       "Length: 71, dtype: float64"
      ]
     },
     "execution_count": 369,
     "metadata": {},
     "output_type": "execute_result"
    }
   ],
   "source": [
    "df_steps_dummies.columns=[\"-1.557- -0.47\",\"-0.47-0.732\",\"0.732-1.875\",\"1.875-3.017\"]\n",
    "fit3 = sm.GLM(df_steps.利率, df_steps_dummies).fit()#广义线性模型\n",
    "bin_mapping = np.digitize(valid_x, bins) #返回valid_x（测试值）所在区间的位序\n",
    "X_valid=pd.get_dummies(bin_mapping)\n",
    "#X_valid = pd.get_dummies(bin_mapping)\n",
    "X_valid=pd.get_dummies(bin_mapping).drop([5],axis=1)#去掉离群点\n",
    "pred3=fit3.predict(X_valid)"
   ]
  },
  {
   "cell_type": "code",
   "execution_count": 371,
   "metadata": {},
   "outputs": [
    {
     "name": "stdout",
     "output_type": "stream",
     "text": [
      "0.8715590398957489\n"
     ]
    }
   ],
   "source": [
    "from sklearn.metrics import mean_squared_error\n",
    "from math import sqrt\n",
    "rms3= sqrt(mean_squared_error(valid_y,pred3))\n",
    "print(rms3)"
   ]
  },
  {
   "cell_type": "code",
   "execution_count": 378,
   "metadata": {},
   "outputs": [
    {
     "name": "stderr",
     "output_type": "stream",
     "text": [
      "D:\\Software Download\\Ananconda\\anaconda\\lib\\site-packages\\matplotlib\\backends\\backend_agg.py:211: RuntimeWarning: Glyph 21033 missing from current font.\n",
      "  font.set_text(s, 0.0, flags=flags)\n",
      "D:\\Software Download\\Ananconda\\anaconda\\lib\\site-packages\\matplotlib\\backends\\backend_agg.py:211: RuntimeWarning: Glyph 29575 missing from current font.\n",
      "  font.set_text(s, 0.0, flags=flags)\n",
      "D:\\Software Download\\Ananconda\\anaconda\\lib\\site-packages\\matplotlib\\backends\\backend_agg.py:180: RuntimeWarning: Glyph 21033 missing from current font.\n",
      "  font.set_text(s, 0, flags=flags)\n",
      "D:\\Software Download\\Ananconda\\anaconda\\lib\\site-packages\\matplotlib\\backends\\backend_agg.py:180: RuntimeWarning: Glyph 29575 missing from current font.\n",
      "  font.set_text(s, 0, flags=flags)\n"
     ]
    },
    {
     "data": {
      "image/png": "[encoded data removed]",
      "text/plain": [
       "<Figure size 864x360 with 1 Axes>"
      ]
     },
     "metadata": {
      "needs_background": "light"
     },
     "output_type": "display_data"
    }
   ],
   "source": [
    "xp3=np.linspace(valid_x.min(),valid_x.max(),70)\n",
    "bin_mapping=np.digitize(xp3,bins)\n",
    "X_valid3=pd.get_dummies(bin_mapping)\n",
    "X_valid3=pd.get_dummies(bin_mapping).drop([5],axis=1)#去掉离群点\n",
    "pred3=fit3.predict(X_valid3)\n",
    "\n",
    "#进行可视化\n",
    "fig,(ax1) = plt.subplots(1,1, figsize=(12,5))\n",
    "fig.suptitle('Piecewise Constant', fontsize=14)#画出样条回归的散点图\n",
    "ax1.scatter(train_x,train_y, facecolor='None', edgecolor='k', alpha=0.3)\n",
    "ax1.plot(xp3,pred3, c='b')\n",
    "ax1.set_xlabel('M2')\n",
    "ax1.set_ylabel('利率')\n",
    "plt.show()\n"
   ]
  }
 ],
 "metadata": {
  "kernelspec": {
   "display_name": "Python 3",
   "language": "python",
   "name": "python3"
  },
  "language_info": {
   "codemirror_mode": {
    "name": "ipython",
    "version": 3
   },
   "file_extension": ".py",
   "mimetype": "text/x-python",
   "name": "python",
   "nbconvert_exporter": "python",
   "pygments_lexer": "ipython3",
   "version": "3.7.4"
  }
 },
 "nbformat": 4,
 "nbformat_minor": 2
}
