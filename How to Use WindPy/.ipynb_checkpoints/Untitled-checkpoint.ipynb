{
 "cells": [
  {
   "cell_type": "markdown",
   "metadata": {},
   "source": [
    "<font size=4 color=\"08#0000\" face=\"Times New Roman\">**How to Use WindPy**</font> "
   ]
  },
  {
   "cell_type": "code",
   "execution_count": 12,
   "metadata": {},
   "outputs": [
    {
     "name": "stdout",
     "output_type": "stream",
     "text": [
      "Welcome to use Wind Quant API for Python (WindPy)!\n",
      "\n",
      "COPYRIGHT (C) 2017 WIND INFORMATION CO., LTD. ALL RIGHTS RESERVED.\n",
      "IN NO CIRCUMSTANCE SHALL WIND BE RESPONSIBLE FOR ANY DAMAGES OR LOSSES CAUSED BY USING WIND QUANT API FOR Python.\n"
     ]
    },
    {
     "data": {
      "text/plain": [
       "True"
      ]
     },
     "execution_count": 12,
     "metadata": {},
     "output_type": "execute_result"
    }
   ],
   "source": [
    "from WindPy import w\n",
    "w.start()#默认命令的超时时间为120秒\n",
    "w.isconnected()#Judge whether Python is connected to Wind\n",
    "#w.stop()# stop the function of WindPy,when the programme is finished, WindPy will stop automaotoly"
   ]
  },
  {
   "cell_type": "markdown",
   "metadata": {},
   "source": [
    "<font size=3 color=\"08#0000\" face=\"宋体\">**获取时间序列日期WSD**</font>"
   ]
  },
  {
   "cell_type": "markdown",
   "metadata": {},
   "source": [
    "<font size=3 face=\"宋体\"> 该函数的基本用法为\n",
    "$$w.wsd(codes, fields, beginTime,endTime,options)$$\n",
    "支持股票、债券、基金、期货、指数等多种证券的基本资料、股东信息、市场行情、证券分析、预测评级、财务数据等各种数据。wsd可以支持取多品种单指标, 或者单品种多指标的时间序列数据。参数的具体输入如下表所示：</font>"
   ]
  },
  {
   "cell_type": "markdown",
   "metadata": {},
   "source": [
    "![jupyter](./wsd.png)"
   ]
  },
  {
   "cell_type": "code",
   "execution_count": 21,
   "metadata": {},
   "outputs": [
    {
     "data": {
      "text/html": [
       "<div>\n",
       "<style scoped>\n",
       "    .dataframe tbody tr th:only-of-type {\n",
       "        vertical-align: middle;\n",
       "    }\n",
       "\n",
       "    .dataframe tbody tr th {\n",
       "        vertical-align: top;\n",
       "    }\n",
       "\n",
       "    .dataframe thead th {\n",
       "        text-align: right;\n",
       "    }\n",
       "</style>\n",
       "<table border=\"1\" class=\"dataframe\">\n",
       "  <thead>\n",
       "    <tr style=\"text-align: right;\">\n",
       "      <th></th>\n",
       "      <th>SEC_NAME</th>\n",
       "      <th>YTM_B</th>\n",
       "      <th>VOLUME</th>\n",
       "      <th>DURATION</th>\n",
       "      <th>CONVEXITY</th>\n",
       "      <th>OPEN</th>\n",
       "      <th>HIGH</th>\n",
       "      <th>LOW</th>\n",
       "      <th>CLOSE</th>\n",
       "      <th>VWAP</th>\n",
       "    </tr>\n",
       "  </thead>\n",
       "  <tbody>\n",
       "    <tr>\n",
       "      <td>2018-06-01</td>\n",
       "      <td>21国债(7)</td>\n",
       "      <td>3.591328</td>\n",
       "      <td>38318000.0</td>\n",
       "      <td>2.958463</td>\n",
       "      <td>11.297840</td>\n",
       "      <td>102.10</td>\n",
       "      <td>102.15</td>\n",
       "      <td>101.92</td>\n",
       "      <td>101.98</td>\n",
       "      <td>101.977496</td>\n",
       "    </tr>\n",
       "    <tr>\n",
       "      <td>2018-06-04</td>\n",
       "      <td>21国债(7)</td>\n",
       "      <td>3.613196</td>\n",
       "      <td>30240000.0</td>\n",
       "      <td>2.950157</td>\n",
       "      <td>11.239785</td>\n",
       "      <td>101.91</td>\n",
       "      <td>101.98</td>\n",
       "      <td>101.90</td>\n",
       "      <td>101.91</td>\n",
       "      <td>101.941359</td>\n",
       "    </tr>\n",
       "    <tr>\n",
       "      <td>2018-06-05</td>\n",
       "      <td>21国债(7)</td>\n",
       "      <td>3.596003</td>\n",
       "      <td>31485000.0</td>\n",
       "      <td>2.947486</td>\n",
       "      <td>11.226217</td>\n",
       "      <td>101.85</td>\n",
       "      <td>101.97</td>\n",
       "      <td>101.85</td>\n",
       "      <td>101.96</td>\n",
       "      <td>101.933362</td>\n",
       "    </tr>\n",
       "    <tr>\n",
       "      <td>2018-06-06</td>\n",
       "      <td>21国债(7)</td>\n",
       "      <td>3.605539</td>\n",
       "      <td>177095000.0</td>\n",
       "      <td>2.944708</td>\n",
       "      <td>11.206388</td>\n",
       "      <td>102.06</td>\n",
       "      <td>102.06</td>\n",
       "      <td>101.76</td>\n",
       "      <td>101.93</td>\n",
       "      <td>101.867666</td>\n",
       "    </tr>\n",
       "    <tr>\n",
       "      <td>2018-06-07</td>\n",
       "      <td>21国债(7)</td>\n",
       "      <td>3.591661</td>\n",
       "      <td>52440000.0</td>\n",
       "      <td>2.942024</td>\n",
       "      <td>11.192059</td>\n",
       "      <td>101.92</td>\n",
       "      <td>102.00</td>\n",
       "      <td>101.79</td>\n",
       "      <td>101.97</td>\n",
       "      <td>101.935645</td>\n",
       "    </tr>\n",
       "  </tbody>\n",
       "</table>\n",
       "</div>"
      ],
      "text/plain": [
       "           SEC_NAME     YTM_B       VOLUME  DURATION  CONVEXITY    OPEN  \\\n",
       "2018-06-01  21国债(7)  3.591328   38318000.0  2.958463  11.297840  102.10   \n",
       "2018-06-04  21国债(7)  3.613196   30240000.0  2.950157  11.239785  101.91   \n",
       "2018-06-05  21国债(7)  3.596003   31485000.0  2.947486  11.226217  101.85   \n",
       "2018-06-06  21国债(7)  3.605539  177095000.0  2.944708  11.206388  102.06   \n",
       "2018-06-07  21国债(7)  3.591661   52440000.0  2.942024  11.192059  101.92   \n",
       "\n",
       "              HIGH     LOW   CLOSE        VWAP  \n",
       "2018-06-01  102.15  101.92  101.98  101.977496  \n",
       "2018-06-04  101.98  101.90  101.91  101.941359  \n",
       "2018-06-05  101.97  101.85  101.96  101.933362  \n",
       "2018-06-06  102.06  101.76  101.93  101.867666  \n",
       "2018-06-07  102.00  101.79  101.97  101.935645  "
      ]
     },
     "execution_count": 21,
     "metadata": {},
     "output_type": "execute_result"
    }
   ],
   "source": [
    "# 任取一只国债010107.SH六月份以来的净值历史行情数据\n",
    "history_data=w.wsd(\"010107.SH\",\n",
    "                   \"sec_name,ytm_b,volume,duration,convexity,open,high,low,close,vwap\", \n",
    "                   \"2018-06-01\", \"2018-06-11\", \"returnType=1;PriceAdj=CP\", usedf=True) \n",
    "# returnType表示到期收益率计算方法，PriceAdj表示债券价格类型‘\n",
    "history_data[1].head()#返回的是tuple类型\n",
    "#type(history_data)"
   ]
  },
  {
   "cell_type": "code",
   "execution_count": 18,
   "metadata": {},
   "outputs": [
    {
     "data": {
      "text/plain": [
       ".ErrorCode=0\n",
       ".Codes=[010107.SH]\n",
       ".Fields=[SEC_NAME,YTM_B,VOLUME,DURATION,CONVEXITY,OPEN,HIGH,LOW,CLOSE,VWAP]\n",
       ".Times=[20180601,20180604,20180605,20180606,20180607,20180608,20180611]\n",
       ".Data=[[21国债(7),21国债(7),21国债(7),21国债(7),21国债(7),21国债(7),21国债(7)],[3.5913283824920654,3.6131961345672607,3.5960030555725098,3.6055386066436768,3.5916614532470703,3.5710742473602295,3.5561020374298096],[38318000.0,30240000.0,31485000.0,177095000.0,52440000.0,40053000.0,79460000.0],[2.958463430404663,2.9501571655273438,2.94748592376709,2.9447081089019775,2.942023754119873,2.939366102218628,2.931206703186035],[11.297840118408203,11.239785194396973,11.226217269897461,11.206388473510742,11.192058563232422,11.179302215576172,11.130145072937012],[102.1,101.91,101.85,102.06,101.92,101.82,102.02],[102.15,101.98,101.97,102.06,102.0,102.05,102.09],[101.92,101.9,101.85,101.76,101.79,101.82,101.95],[101.98,101.91,101.96,101.93,101.97,102.03,102.07],[101.97749621587765,101.94135912698412,101.93336191837383,101.86766594200853,101.93564454614798,101.99891893241455,102.01647998993204]]"
      ]
     },
     "execution_count": 18,
     "metadata": {},
     "output_type": "execute_result"
    }
   ],
   "source": [
    "# 任取一只国债010107.SH六月份以来的净值历史行情数据\n",
    "history_data=w.wsd(\"010107.SH\",\n",
    "                   \"sec_name,ytm_b,volume,duration,convexity,open,high,low,close,vwap\", \n",
    "                   \"2018-06-01\", \"2018-06-11\", \"returnType=1;PriceAdj=CP\") \n",
    "# returnType表示到期收益率计算方法，PriceAdj表示债券价格类型‘\n",
    "history_data #当不指定usedf=True的时候，返回的对象则是一个结构体"
   ]
  },
  {
   "cell_type": "markdown",
   "metadata": {},
   "source": [
    "<font size=3 color=\"08#0000\" face=\"宋体\">**获取日截面数据函数WSS**</font>"
   ]
  },
  {
   "cell_type": "markdown",
   "metadata": {},
   "source": [
    "<font size=3 face=\"宋体\">$\\ $ $\\ $ $\\ $同样支持股票、债券、基金、期货、指数等多种证券的基本资料、股东信息、市场行情、证券分析、预测评级、财务数据等各种数据。但是WSS支持取多品种多指标某个时间点的截面数据。\n",
    "$$w.wss（codes, fields, option）$$</font>"
   ]
  },
  {
   "cell_type": "markdown",
   "metadata": {},
   "source": [
    "![jupyter](./wss.png)"
   ]
  },
  {
   "cell_type": "markdown",
   "metadata": {},
   "source": [
    "<font size=3 color=\"08#0000\" face=\"宋体\">**其他重要的功能块**</font>"
   ]
  },
  {
   "cell_type": "markdown",
   "metadata": {},
   "source": [
    "<font size=3 face=\"宋体\">获取**板块**日序列数据函数**WSES**<br/>\n",
    "获取板快日截面数据函数**WSEE**<br />\n",
    "获取全球宏观经济数据函数**EDB**</font>"
   ]
  },
  {
   "cell_type": "code",
   "execution_count": 29,
   "metadata": {},
   "outputs": [
    {
     "data": {
      "text/plain": [
       "(0,                           last   bid1   ask1\n",
       " 2020-02-18 09:30:00.000  15.32  15.31  15.32\n",
       " 2020-02-18 09:30:03.001  15.30  15.28  15.30\n",
       " 2020-02-18 09:30:06.001  15.28  15.27  15.28\n",
       " 2020-02-18 09:30:09.000  15.28  15.27  15.28\n",
       " 2020-02-18 09:30:12.001  15.27  15.26  15.27\n",
       " ...                        ...    ...    ...\n",
       " 2020-02-18 14:59:24.000  15.20  15.20  15.20\n",
       " 2020-02-18 14:59:33.000  15.20  15.20  15.20\n",
       " 2020-02-18 14:59:42.001  15.20  15.20  15.20\n",
       " 2020-02-18 14:59:51.001  15.20  15.20  15.20\n",
       " 2020-02-18 15:00:03.000  15.20  15.20  15.21\n",
       " \n",
       " [4762 rows x 3 columns])"
      ]
     },
     "execution_count": 29,
     "metadata": {},
     "output_type": "execute_result"
    }
   ],
   "source": [
    "# 提取平安银行（000001.SZ）当天的买卖盘数据。\n",
    "from datetime import *\n",
    "\n",
    "# 设置起始时间和截止时间，通过wst接口提取序列数据\n",
    "begintime=datetime.strftime(datetime.now(),'%Y-%m-%d 09:30:00')\n",
    "endtime=datetime.strftime(datetime.now(),'%Y-%m-%d %H:%M:%S')\n",
    "# last最新价，amt成交额，volume成交量\n",
    "# bid1 买1价，bsize1 买1量\n",
    "# ask1 卖1价, asize1 卖1量\n",
    "codes=\"000001.SZ\"\n",
    "fields=\"last,bid1,ask1\" \n",
    "res=w.wst(codes,fields,begintime,endtime,usedf=True)\n",
    "res"
   ]
  }
 ],
 "metadata": {
  "kernelspec": {
   "display_name": "Python 3",
   "language": "python",
   "name": "python3"
  },
  "language_info": {
   "codemirror_mode": {
    "name": "ipython",
    "version": 3
   },
   "file_extension": ".py",
   "mimetype": "text/x-python",
   "name": "python",
   "nbconvert_exporter": "python",
   "pygments_lexer": "ipython3",
   "version": "3.7.4"
  }
 },
 "nbformat": 4,
 "nbformat_minor": 2
}
