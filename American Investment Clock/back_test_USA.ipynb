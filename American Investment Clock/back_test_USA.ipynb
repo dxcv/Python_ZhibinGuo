{
 "cells": [
  {
   "cell_type": "code",
   "execution_count": 1,
   "metadata": {},
   "outputs": [],
   "source": [
    "import pandas as pd\n",
    "import numpy as np\n",
    "import os\n",
    "import matplotlib.pyplot as plt\n",
    "os.chdir(\"D:\\各种材料\\研究生\\公众号\\三、美林时钟模型\")"
   ]
  },
  {
   "cell_type": "markdown",
   "metadata": {},
   "source": [
    "<font size=4 color ='08#0000' face='黑体'>获得用于周期判断的产出缺口和CPI同比</font>"
   ]
  },
  {
   "cell_type": "code",
   "execution_count": 4,
   "metadata": {},
   "outputs": [
    {
     "data": {
      "text/plain": [
       "Text(0, 0.5, 'CPI同比')"
      ]
     },
     "execution_count": 4,
     "metadata": {},
     "output_type": "execute_result"
    },
    {
     "data": {
      "image/png": "[encoded data removed]",
      "text/plain": [
       "<Figure size 432x288 with 2 Axes>"
      ]
     },
     "metadata": {
      "needs_background": "light"
     },
     "output_type": "display_data"
    }
   ],
   "source": [
    "from pylab import *\n",
    "mpl.rcParams['font.sans-serif'] = ['SimHei'] # for the normal demonstration of chinese words\n",
    "usa=pd.read_excel('美国GDPCPI同比.xlsx')\n",
    "eco=usa['产出缺口']\n",
    "cpi=usa['CPI同比']\n",
    "x=usa['日期']\n",
    "fig,ax1=plt.subplots()\n",
    "ax2=ax1.twinx()\n",
    "ax1.plot(x,eco,color='b')\n",
    "ax2.plot(x,cpi,color='r')\n",
    "ax1.set_ylabel(\"产出缺口\",color=\"b\")\n",
    "ax2.set_ylabel(\"CPI同比\",color=\"r\")"
   ]
  },
  {
   "cell_type": "markdown",
   "metadata": {},
   "source": [
    "<font size=4 color ='08#0000' face='黑体'>获得周期信号</font>"
   ]
  },
  {
   "cell_type": "code",
   "execution_count": 6,
   "metadata": {},
   "outputs": [],
   "source": [
    "def Circle_Identify(D):\n",
    "    #The function is to identify the circle in American Investment Clock Model\n",
    "    #D is DataFrame\n",
    "    eco=D['产出缺口']\n",
    "    cpi=D['CPI同比']\n",
    "    eco_s=np.sign(D['产出缺口']-D['产出缺口'].shift(1))\n",
    "    cpi_s=np.sign(D['CPI同比']-D['CPI同比'].shift(1))\n",
    "    eco_signal=np.sign(eco_s*eco_s.shift(-1))# 1: trend no change; -1: trend change\n",
    "    cpi_signal=np.sign(cpi_s*cpi_s.shift(-1))# 1: trend no change; -1: trend change\n",
    "    eco_pos=eco_signal[eco_signal==-1].index.tolist()  #the position where the gdp trend changes  \n",
    "    cpi_pos=cpi_signal[cpi_signal==-1].index.tolist()  #the position where the cpi trend changes\n",
    "    change=set(cpi_pos+eco_pos) \n",
    "    change=list(change)# the index where the change happened\n",
    "    change.sort()\n",
    "    circle_type=[]#record the type of the circle 0: recovery, 1:overheat, 2:stagflation, 3:decline\n",
    "    for pos in range(0,len(change)):\n",
    "        compare=D.iloc[change[pos]][0:3]-D.iloc[change[pos]-1][0:3] \n",
    "        if (change[pos] in eco_pos and change[pos] in cpi_pos ):#both the gdp & cpi trend change\n",
    "            if ((compare['产出缺口']<0)&(compare['CPI同比']<0)): #later the gdp grows, cpi grows, overheat:1 \n",
    "                circle_type.append(1) #recording the circle type of the next period\n",
    "            elif((compare['产出缺口']<0)&(compare['CPI同比']>0)):#later the gdp grows, cpi decrease, recovery:0\n",
    "                circle_type.append(0)\n",
    "            elif((compare['产出缺口']>0)&(compare['CPI同比']>0)):#later the gdp decrease, cpi deccrease,decline:3 \n",
    "                circle_type.append(3)\n",
    "            else:\n",
    "                circle_type.append(2) #later the gdp decrease, cpi grows, stagflation: 2\n",
    "        else:#single signal trend change\n",
    "            if change[pos] in eco_pos: #gdp trend change, cpi trend stays\n",
    "                if ((compare['产出缺口']<0)&(compare['CPI同比']<=0)): #later the gdp grows, cpi decrease, recovery:0 \n",
    "                    circle_type.append(0) #recording the circle type of the next period\n",
    "                elif((compare['产出缺口']<0)&(compare['CPI同比']>=0)):#later the gdp grows, cpi grows, overheat:1 \n",
    "                    circle_type.append(1)\n",
    "                elif((compare['产出缺口']>0)&(compare['CPI同比']>=0)):#later the gdp decrease, cpi grows,stagflation: 2 \n",
    "                    circle_type.append(2)\n",
    "                else:\n",
    "                    circle_type.append(3) #later the gdp decrease, cpi grows, decline:3\n",
    "            else: #cpi treend change\n",
    "                if ((compare['产出缺口']<0)&(compare['CPI同比']<0)): #later the gdp decreases, cpi grows,stagflation: 2  \n",
    "                    circle_type.append(2) #recording the circle type of the next period\n",
    "                elif((compare['产出缺口']<0)&(compare['CPI同比']>0)):#later the gdp decreases, cpi decreases,decline:3 \n",
    "                    circle_type.append(3)\n",
    "                elif((compare['产出缺口']>0)&(compare['CPI同比']>0)):#later the gdp grows, cpi decreases,recovery: 0\n",
    "                    circle_type.append(0)\n",
    "                else:\n",
    "                    circle_type.append(1) #later the gdp grows, cpi grows, overheat:1     \n",
    "    return [change,circle_type]"
   ]
  },
  {
   "cell_type": "code",
   "execution_count": 8,
   "metadata": {},
   "outputs": [],
   "source": [
    "clock_usa=[x,eco,cpi]\n",
    "clock_usa=pd.concat(clock_usa, axis=1)\n",
    "[change,circle_type]= Circle_Identify(clock_usa)# change: record the index of circle change in the usa; circle_type: record the circle type"
   ]
  },
  {
   "cell_type": "markdown",
   "metadata": {},
   "source": [
    "<font size=4 color ='08#0000' face='黑体'>导入大类资产价格</font>"
   ]
  },
  {
   "cell_type": "code",
   "execution_count": 10,
   "metadata": {},
   "outputs": [
    {
     "data": {
      "text/html": [
       "<div>\n",
       "<style scoped>\n",
       "    .dataframe tbody tr th:only-of-type {\n",
       "        vertical-align: middle;\n",
       "    }\n",
       "\n",
       "    .dataframe tbody tr th {\n",
       "        vertical-align: top;\n",
       "    }\n",
       "\n",
       "    .dataframe thead th {\n",
       "        text-align: right;\n",
       "    }\n",
       "</style>\n",
       "<table border=\"1\" class=\"dataframe\">\n",
       "  <thead>\n",
       "    <tr style=\"text-align: right;\">\n",
       "      <th></th>\n",
       "      <th>标普500</th>\n",
       "      <th>巴克莱资本美国综合债券</th>\n",
       "      <th>标普高盛商品全收益指数</th>\n",
       "      <th>国债收益率</th>\n",
       "    </tr>\n",
       "    <tr>\n",
       "      <th>日期</th>\n",
       "      <th></th>\n",
       "      <th></th>\n",
       "      <th></th>\n",
       "      <th></th>\n",
       "    </tr>\n",
       "  </thead>\n",
       "  <tbody>\n",
       "    <tr>\n",
       "      <td>2011-06-30</td>\n",
       "      <td>1320.64</td>\n",
       "      <td>68.6700</td>\n",
       "      <td>5077.249</td>\n",
       "      <td>3.18</td>\n",
       "    </tr>\n",
       "    <tr>\n",
       "      <td>2011-07-29</td>\n",
       "      <td>1292.28</td>\n",
       "      <td>69.8300</td>\n",
       "      <td>5200.874</td>\n",
       "      <td>2.82</td>\n",
       "    </tr>\n",
       "    <tr>\n",
       "      <td>2011-08-31</td>\n",
       "      <td>1218.89</td>\n",
       "      <td>71.2600</td>\n",
       "      <td>5104.938</td>\n",
       "      <td>2.23</td>\n",
       "    </tr>\n",
       "    <tr>\n",
       "      <td>2011-09-30</td>\n",
       "      <td>1131.42</td>\n",
       "      <td>76.4100</td>\n",
       "      <td>4483.729</td>\n",
       "      <td>1.92</td>\n",
       "    </tr>\n",
       "    <tr>\n",
       "      <td>2011-10-31</td>\n",
       "      <td>1253.30</td>\n",
       "      <td>73.8800</td>\n",
       "      <td>4920.722</td>\n",
       "      <td>2.17</td>\n",
       "    </tr>\n",
       "    <tr>\n",
       "      <td>...</td>\n",
       "      <td>...</td>\n",
       "      <td>...</td>\n",
       "      <td>...</td>\n",
       "      <td>...</td>\n",
       "    </tr>\n",
       "    <tr>\n",
       "      <td>2019-09-30</td>\n",
       "      <td>2976.74</td>\n",
       "      <td>100.6439</td>\n",
       "      <td>2393.090</td>\n",
       "      <td>1.68</td>\n",
       "    </tr>\n",
       "    <tr>\n",
       "      <td>2019-10-31</td>\n",
       "      <td>3037.56</td>\n",
       "      <td>98.8046</td>\n",
       "      <td>2422.880</td>\n",
       "      <td>1.69</td>\n",
       "    </tr>\n",
       "    <tr>\n",
       "      <td>2019-11-29</td>\n",
       "      <td>3140.98</td>\n",
       "      <td>99.8769</td>\n",
       "      <td>2422.570</td>\n",
       "      <td>1.78</td>\n",
       "    </tr>\n",
       "    <tr>\n",
       "      <td>2019-12-31</td>\n",
       "      <td>3230.78</td>\n",
       "      <td>97.9201</td>\n",
       "      <td>2591.860</td>\n",
       "      <td>1.92</td>\n",
       "    </tr>\n",
       "    <tr>\n",
       "      <td>2020-01-23</td>\n",
       "      <td>3243.63</td>\n",
       "      <td>101.3531</td>\n",
       "      <td>2367.570</td>\n",
       "      <td>1.74</td>\n",
       "    </tr>\n",
       "  </tbody>\n",
       "</table>\n",
       "<p>104 rows × 4 columns</p>\n",
       "</div>"
      ],
      "text/plain": [
       "              标普500  巴克莱资本美国综合债券  标普高盛商品全收益指数  国债收益率\n",
       "日期                                                  \n",
       "2011-06-30  1320.64      68.6700     5077.249   3.18\n",
       "2011-07-29  1292.28      69.8300     5200.874   2.82\n",
       "2011-08-31  1218.89      71.2600     5104.938   2.23\n",
       "2011-09-30  1131.42      76.4100     4483.729   1.92\n",
       "2011-10-31  1253.30      73.8800     4920.722   2.17\n",
       "...             ...          ...          ...    ...\n",
       "2019-09-30  2976.74     100.6439     2393.090   1.68\n",
       "2019-10-31  3037.56      98.8046     2422.880   1.69\n",
       "2019-11-29  3140.98      99.8769     2422.570   1.78\n",
       "2019-12-31  3230.78      97.9201     2591.860   1.92\n",
       "2020-01-23  3243.63     101.3531     2367.570   1.74\n",
       "\n",
       "[104 rows x 4 columns]"
      ]
     },
     "execution_count": 10,
     "metadata": {},
     "output_type": "execute_result"
    }
   ],
   "source": [
    "price=pd.read_excel('资产价格.xlsx','美国')\n",
    "price.index=price['日期']\n",
    "del price['日期']\n",
    "price=price.dropna(0)#去除包含NaN的行\n",
    "price"
   ]
  },
  {
   "cell_type": "code",
   "execution_count": 12,
   "metadata": {},
   "outputs": [],
   "source": [
    "#将日期都处理为仅为月度数据\n",
    "clock_usa['日期']= clock_usa['日期'].map(lambda a : a.strftime('%Y-%m')) \n",
    "price.index=price.index.map(lambda a: a.strftime('%Y-%m'))"
   ]
  },
  {
   "cell_type": "markdown",
   "metadata": {},
   "source": [
    "<font face='黑体' size= 4 color=#8B0000 >回测实现 </font>"
   ]
  },
  {
   "cell_type": "code",
   "execution_count": 16,
   "metadata": {},
   "outputs": [],
   "source": [
    "def period_return(d1,d2,circle,D):\n",
    "    #d1,d2是持有资产的起始和终止日期\n",
    "    if circle==0:\n",
    "        asset='标普500'\n",
    "    elif circle==1:\n",
    "        asset='标普高盛商品全收益指数'\n",
    "    elif circle==2:\n",
    "        asset='国债收益率'\n",
    "    else:\n",
    "        asset='巴克莱资本美国综合债券'\n",
    "    asset_choose=D[asset][d1:d2]#选中投资资产\n",
    "    temp_r=asset_choose/asset_choose.shift(1)-1\n",
    "    temp_r=temp_r.dropna()\n",
    "    date=list(temp_r.index)\n",
    "    ret=list(temp_r.values)\n",
    "    #返回整个时间段内的各资产收益率的排名情况，并返回所选择资产的总收益率排名\n",
    "    P=D[d1:d2]#获得所有资产该段时间的价格\n",
    "    r_period=P.iloc[-1]/P.iloc[0]-1#计算各资产的收益率\n",
    "    if r_period[asset]>0:\n",
    "        SelectPos=1 #即选中了收益率大于零的资产\n",
    "    else:\n",
    "        SelectPos=0\n",
    "    temp_r=r_period.sort_values(ascending=False)#收益率排序\n",
    "    assetrank=list(temp_r.index)#按收益率从高到低的资产名称\n",
    "    rank=assetrank.index(asset)+1#得到4类资产中的排名\n",
    "    return [ret,date,assetrank,asset,rank,SelectPos] #ret 从起始日之后的第一期记录，日期也是。"
   ]
  },
  {
   "cell_type": "code",
   "execution_count": 17,
   "metadata": {},
   "outputs": [],
   "source": [
    "testdate=[]#record the asset changing day/monthly\n",
    "r=[]#record the return/ monthly\n",
    "\n",
    "changedate=[]#记录周期类型改变的日期\n",
    "assetrank=[]#记录这段期间各资产收益率排名（降序）\n",
    "assetselect=[]#记录选择的资产\n",
    "SelectRank=[]#记录所选择资产的收益率排名\n",
    "RightOrWrong=[] #是否选择了收益为正的资产\n",
    "\n",
    "for nbr in  range(len(change)): \n",
    "    if clock_usa['日期'][change[nbr]] in price.index:\n",
    "        circletype=circle_type[nbr]\n",
    "        changedate.append(clock_usa['日期'][change[nbr]])\n",
    "        if (nbr< len(change)-1):\n",
    "            res=period_return(clock_usa['日期'][change[nbr]],clock_usa['日期'][change[nbr+1]],circletype,price)\n",
    "            temp_r=res[0]\n",
    "            temp_d=res[1]\n",
    "        else:\n",
    "            res=period_return(clock_usa['日期'][change[nbr]],price.index[-1],circletype,price)\n",
    "            temp_r=res[0]\n",
    "            temp_d=res[1]\n",
    "        r=r+temp_r #直接将收益率列表合并了\n",
    "        testdate=testdate+temp_d\n",
    "        assetrank.append(res[2])\n",
    "        assetselect.append([res[3]])\n",
    "        SelectRank.append(res[4])\n",
    "        RightOrWrong.append(res[5])\n",
    "    else:\n",
    "        ;\n",
    "    nbr=nbr+1 "
   ]
  },
  {
   "cell_type": "code",
   "execution_count": 18,
   "metadata": {},
   "outputs": [
    {
     "data": {
      "text/plain": [
       "[<matplotlib.lines.Line2D at 0x260d1587148>]"
      ]
     },
     "execution_count": 18,
     "metadata": {},
     "output_type": "execute_result"
    },
    {
     "data": {
      "image/png": "[encoded data removed]",
      "text/plain": [
       "<Figure size 432x288 with 1 Axes>"
      ]
     },
     "metadata": {
      "needs_background": "light"
     },
     "output_type": "display_data"
    }
   ],
   "source": [
    "r_plus1=np.array(r)+1\n",
    "nav=np.cumprod(r_plus1)\n",
    "nav=pd.DataFrame(nav,index=testdate,columns=['净值'])\n",
    "start_date=changedate[0]\n",
    "nav.loc[start_date]=1\n",
    "nav=nav.sort_index()\n",
    "plt.plot(nav)"
   ]
  },
  {
   "cell_type": "code",
   "execution_count": 20,
   "metadata": {},
   "outputs": [],
   "source": [
    "circle_type=pd.DataFrame(circle_type,index=clock_usa['日期'][change],columns=['周期类型'])\n",
    "writer=pd.ExcelWriter(\"美国直接用GDP.xlsx\")\n",
    "nav.to_excel(writer,'净值',float_format='%.5f')\n",
    "circle_type.to_excel(writer,'周期类型',float_format='%.5f')\n",
    "\n",
    "#回测过程具体信息\n",
    "assetrank=pd.DataFrame(assetrank,index=changedate,columns=['1st','2nd','3rd','4th'])\n",
    "assetselect=pd.DataFrame(assetselect,index=changedate,columns=['所选资产'])\n",
    "SelectRank=pd.DataFrame(SelectRank,index=changedate,columns=['所选资产排名'])\n",
    "RightOrWrong=pd.DataFrame(RightOrWrong,index=changedate,columns=['所选资产收益率是否为正'])\n",
    "res=pd.concat([assetrank,assetselect,SelectRank,RightOrWrong],axis=1)\n",
    "res.to_excel(writer,'回测过程',float_format='%.5f')\n",
    "writer.save()"
   ]
  },
  {
   "cell_type": "code",
   "execution_count": 21,
   "metadata": {},
   "outputs": [
    {
     "name": "stdout",
     "output_type": "stream",
     "text": [
      "年化收益率 [0.1276531]\n",
      "年化波动率 0.20607494866785106\n",
      "夏普比率 [0.61944988]\n",
      "最大回撤 0.25742574257425743\n",
      "Calmar [0.4958832]\n"
     ]
    }
   ],
   "source": [
    "whole_return=nav.values\n",
    "annual_return=(whole_return[-1])**(12/len(whole_return))-1\n",
    "print('年化收益率',annual_return)\n",
    "\n",
    "#计算年化波动率\n",
    "import math\n",
    "annual_vol=r_plus1.std()*math.sqrt(12)\n",
    "print('年化波动率',annual_vol)\n",
    "\n",
    "#计算夏普比率\n",
    "print('夏普比率',(annual_return/annual_vol))\n",
    "\n",
    "#计算最大回撤\n",
    "return_list=whole_return\n",
    "max_turndown=((np.maximum.accumulate(return_list) - return_list) / np.maximum.accumulate(return_list)).max()\n",
    "print('最大回撤',max_turndown)\n",
    "\n",
    "#计算Calmar值\n",
    "calmar=annual_return/max_turndown\n",
    "print('Calmar',calmar)"
   ]
  }
 ],
 "metadata": {
  "kernelspec": {
   "display_name": "Python 3",
   "language": "python",
   "name": "python3"
  },
  "language_info": {
   "codemirror_mode": {
    "name": "ipython",
    "version": 3
   },
   "file_extension": ".py",
   "mimetype": "text/x-python",
   "name": "python",
   "nbconvert_exporter": "python",
   "pygments_lexer": "ipython3",
   "version": "3.7.4"
  }
 },
 "nbformat": 4,
 "nbformat_minor": 2
}
