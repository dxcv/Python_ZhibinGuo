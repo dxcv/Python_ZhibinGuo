{
 "cells": [
  {
   "cell_type": "code",
   "execution_count": 1,
   "metadata": {},
   "outputs": [],
   "source": [
    "def Circle_Identify(D):\n",
    "    #The function is to identify the circle in American Investment Clock Model\n",
    "    #D is DataFrame\n",
    "    eco=D['经济同比趋势']\n",
    "    cpi=D['CPI同比趋势']\n",
    "    eco_s=D['经济同比趋势']-D['经济同比趋势'].shift(1)\n",
    "    cpi_s=D['CPI同比趋势']-D['CPI同比趋势'].shift(1)\n",
    "    eco_signal=np.sign(eco_s*eco_s.shift(1))# 1: trend no change; -1: trend change\n",
    "    cpi_signal=np.sign(cpi_s*cpi_s.shift(1))# 1: trend no change; -1: trend change\n",
    "    eco_pos=eco_signal[eco_signal==-1].index.tolist()\n",
    "    cpi_pos=cpi_signal[cpi_signal==-1].index.tolist()\n",
    "    change=set(cpi_pos+eco_pos)\n",
    "    change=list(change)# the index where the change happened\n",
    "    change.sort()\n",
    "    circle_type=[]#record the type of the circle 0: recovery, 1:overheat, 2:stagflation, 3:decline\n",
    "    for pos in range(0,len(change)):\n",
    "        compare=D.iloc[change[pos]][1:3]-D.iloc[change[pos]-1][1:3]\n",
    "        if ((compare['经济同比趋势']<0)&(compare['CPI同比趋势']<0)): \n",
    "            circle_type.append(1) #recording the circle type of the next period\n",
    "        elif((compare['经济同比趋势']<0)&(compare['CPI同比趋势']>0)):\n",
    "            circle_type.append(0)\n",
    "        elif((compare['经济同比趋势']>0)&(compare['CPI同比趋势']>0)):\n",
    "            circle_type.append(3)\n",
    "        else:\n",
    "            circle_type.append(2)\n",
    "    return [change,circle_type]"
   ]
  }
 ],
 "metadata": {
  "kernelspec": {
   "display_name": "Python 3",
   "language": "python",
   "name": "python3"
  },
  "language_info": {
   "codemirror_mode": {
    "name": "ipython",
    "version": 3
   },
   "file_extension": ".py",
   "mimetype": "text/x-python",
   "name": "python",
   "nbconvert_exporter": "python",
   "pygments_lexer": "ipython3",
   "version": "3.7.4"
  }
 },
 "nbformat": 4,
 "nbformat_minor": 2
}
