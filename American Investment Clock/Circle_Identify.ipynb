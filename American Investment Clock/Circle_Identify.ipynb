{
 "cells": [
  {
   "cell_type": "markdown",
   "metadata": {},
   "source": [
    "<font face=\"黑体\" size=4 color=#8B0000> 美林时钟周期的划分 </font>"
   ]
  },
  {
   "cell_type": "code",
   "execution_count": 2,
   "metadata": {},
   "outputs": [],
   "source": [
    "import pandas as pd\n",
    "import numpy as np\n",
    "import matplotlib.pyplot as plt"
   ]
  },
  {
   "cell_type": "code",
   "execution_count": 17,
   "metadata": {},
   "outputs": [],
   "source": [
    "def Circle_Identify(D):\n",
    "    #The function is to identify the circle in American Investment Clock Model\n",
    "    #D is DataFrame\n",
    "    eco=D['经济同比趋势']\n",
    "    cpi=D['CPI同比趋势']\n",
    "    eco_s=D['经济同比趋势']-D['经济同比趋势'].shift(1)\n",
    "    cpi_s=D['CPI同比趋势']-D['CPI同比趋势'].shift(1)\n",
    "    eco_signal=np.sign(eco_s*eco_s.shift(1))# 1: trend no change; -1: trend change\n",
    "    cpi_signal=np.sign(cpi_s*cpi_s.shift(1))# 1: trend no change; -1: trend change\n",
    "    eco_pos=eco_signal[eco_signal==-1].index.tolist()\n",
    "    cpi_pos=cpi_signal[cpi_signal==-1].index.tolist()\n",
    "    change=set(cpi_pos+eco_pos)\n",
    "    change=list(change)# the index where the change happened\n",
    "    change.sort()\n",
    "    circle_type=[]#record the type of the circle 0: recovery, 1:overheat, 2:stagflation, 3:decline\n",
    "    for pos in range(0,len(change)):\n",
    "        compare=D.iloc[change[pos]][1:3]-D.iloc[change[pos]-1][1:3]\n",
    "        if ((compare['经济同比趋势']<0)&(compare['CPI同比趋势']<0)): \n",
    "            circle_type.append(1) #recording the circle type of the next period\n",
    "        elif((compare['经济同比趋势']<0)&(compare['CPI同比趋势']>0)):\n",
    "            circle_type.append(0)\n",
    "        elif((compare['经济同比趋势']>0)&(compare['CPI同比趋势']>0)):\n",
    "            circle_type.append(3)\n",
    "        else:\n",
    "            circle_type.append(2)\n",
    "    return [change,circle_type]"
   ]
  },
  {
   "cell_type": "markdown",
   "metadata": {},
   "source": [
    "<font face=\"黑体\" size=4 color=#8B0000> This is the situation of the USA </font>"
   ]
  },
  {
   "cell_type": "code",
   "execution_count": 19,
   "metadata": {},
   "outputs": [
    {
     "data": {
      "image/png": "[encoded data removed]",
      "text/plain": [
       "<Figure size 432x288 with 2 Axes>"
      ]
     },
     "metadata": {
      "needs_background": "light"
     },
     "output_type": "display_data"
    }
   ],
   "source": [
    "import os\n",
    "from pylab import *\n",
    "mpl.rcParams['font.sans-serif'] = ['SimHei'] # for the normal demonstration of chinese words\n",
    "os.chdir('D:\\各种材料\\研究生\\公众号\\三、美林时钟模型')\n",
    "D=pd.read_excel('美国经济通胀滤波.xlsx')\n",
    "eco=D['经济同比趋势']\n",
    "cpi=D['CPI同比趋势']\n",
    "x=D['日期']\n",
    "fig,ax1=plt.subplots()\n",
    "ax2=ax1.twinx()\n",
    "ax1.plot(x,eco,color='b')\n",
    "ax2.plot(x,cpi,color='r')\n",
    "ax1.set_ylabel(\"经济同比趋势\",color=\"b\")\n",
    "ax2.set_ylabel(\"CPI同比趋势\",color=\"r\")\n",
    "[change,circle_type]=Circle_Identify(D)"
   ]
  },
  {
   "cell_type": "code",
   "execution_count": 21,
   "metadata": {},
   "outputs": [
    {
     "data": {
      "text/plain": [
       "[[15,\n",
       "  24,\n",
       "  37,\n",
       "  52,\n",
       "  56,\n",
       "  57,\n",
       "  69,\n",
       "  73,\n",
       "  93,\n",
       "  94,\n",
       "  109,\n",
       "  114,\n",
       "  140,\n",
       "  147,\n",
       "  169,\n",
       "  180,\n",
       "  181,\n",
       "  196,\n",
       "  197,\n",
       "  207,\n",
       "  220,\n",
       "  230,\n",
       "  257,\n",
       "  270,\n",
       "  272,\n",
       "  279,\n",
       "  299,\n",
       "  311,\n",
       "  328,\n",
       "  332,\n",
       "  352,\n",
       "  359,\n",
       "  372,\n",
       "  379,\n",
       "  390,\n",
       "  396,\n",
       "  413,\n",
       "  421,\n",
       "  430,\n",
       "  453,\n",
       "  458,\n",
       "  476,\n",
       "  480,\n",
       "  486,\n",
       "  493,\n",
       "  505,\n",
       "  512,\n",
       "  523,\n",
       "  549,\n",
       "  574,\n",
       "  585,\n",
       "  602,\n",
       "  609,\n",
       "  628,\n",
       "  635,\n",
       "  658,\n",
       "  663,\n",
       "  685,\n",
       "  690,\n",
       "  725,\n",
       "  729,\n",
       "  737,\n",
       "  750,\n",
       "  766,\n",
       "  773,\n",
       "  776,\n",
       "  795,\n",
       "  800,\n",
       "  817,\n",
       "  846,\n",
       "  855,\n",
       "  892,\n",
       "  899,\n",
       "  912,\n",
       "  915,\n",
       "  934,\n",
       "  943,\n",
       "  969,\n",
       "  982,\n",
       "  992,\n",
       "  1024,\n",
       "  1031,\n",
       "  1045,\n",
       "  1055,\n",
       "  1071,\n",
       "  1076,\n",
       "  1096,\n",
       "  1102,\n",
       "  1122,\n",
       "  1129,\n",
       "  1147,\n",
       "  1154,\n",
       "  1180,\n",
       "  1182],\n",
       " [2,\n",
       "  3,\n",
       "  0,\n",
       "  1,\n",
       "  0,\n",
       "  3,\n",
       "  2,\n",
       "  1,\n",
       "  2,\n",
       "  3,\n",
       "  0,\n",
       "  1,\n",
       "  2,\n",
       "  3,\n",
       "  0,\n",
       "  3,\n",
       "  2,\n",
       "  3,\n",
       "  0,\n",
       "  1,\n",
       "  2,\n",
       "  3,\n",
       "  0,\n",
       "  1,\n",
       "  2,\n",
       "  1,\n",
       "  0,\n",
       "  3,\n",
       "  2,\n",
       "  1,\n",
       "  2,\n",
       "  3,\n",
       "  0,\n",
       "  1,\n",
       "  2,\n",
       "  1,\n",
       "  2,\n",
       "  3,\n",
       "  0,\n",
       "  1,\n",
       "  2,\n",
       "  1,\n",
       "  0,\n",
       "  1,\n",
       "  2,\n",
       "  3,\n",
       "  0,\n",
       "  3,\n",
       "  0,\n",
       "  3,\n",
       "  0,\n",
       "  1,\n",
       "  2,\n",
       "  3,\n",
       "  0,\n",
       "  1,\n",
       "  2,\n",
       "  3,\n",
       "  0,\n",
       "  1,\n",
       "  2,\n",
       "  1,\n",
       "  2,\n",
       "  3,\n",
       "  0,\n",
       "  1,\n",
       "  2,\n",
       "  3,\n",
       "  0,\n",
       "  1,\n",
       "  2,\n",
       "  3,\n",
       "  0,\n",
       "  3,\n",
       "  2,\n",
       "  1,\n",
       "  0,\n",
       "  1,\n",
       "  2,\n",
       "  3,\n",
       "  0,\n",
       "  1,\n",
       "  0,\n",
       "  1,\n",
       "  2,\n",
       "  3,\n",
       "  0,\n",
       "  1,\n",
       "  2,\n",
       "  1,\n",
       "  0,\n",
       "  3,\n",
       "  2,\n",
       "  1]]"
      ]
     },
     "execution_count": 21,
     "metadata": {},
     "output_type": "execute_result"
    }
   ],
   "source": [
    "[change,circle_type]=Circle_Identify(D)\n",
    "#[change,circle_type]\n",
    "[change,circle_type]"
   ]
  },
  {
   "cell_type": "markdown",
   "metadata": {},
   "source": [
    "<font face=\"黑体\" size=4 color=#8B0000>The following is the situation of China <font>"
   ]
  },
  {
   "cell_type": "code",
   "execution_count": 8,
   "metadata": {},
   "outputs": [
    {
     "data": {
      "image/png": "[encoded data removed]",
      "text/plain": [
       "<Figure size 432x288 with 2 Axes>"
      ]
     },
     "metadata": {
      "needs_background": "light"
     },
     "output_type": "display_data"
    }
   ],
   "source": [
    "D_china=pd.read_excel('中国经济通胀滤波.xlsx')\n",
    "eco=D_china['经济同比趋势']\n",
    "cpi=D_china['CPI同比趋势']\n",
    "x=D_china['日期']\n",
    "fig,ax1=plt.subplots()\n",
    "ax2=ax1.twinx()\n",
    "ax1.plot(x,eco,color='b')\n",
    "ax2.plot(x,cpi,color='r')\n",
    "ax1.set_ylabel(\"经济同比趋势\",color=\"b\")\n",
    "ax2.set_ylabel(\"CPI同比趋势\",color=\"r\")\n",
    "[change,circle_type]=Circle_Identify(D_china)"
   ]
  },
  {
   "cell_type": "code",
   "execution_count": 9,
   "metadata": {},
   "outputs": [],
   "source": [
    "[change,circle_type]=Circle_Identify(D_china)\n",
    "#[change,circle_type]"
   ]
  },
  {
   "cell_type": "code",
   "execution_count": 10,
   "metadata": {},
   "outputs": [
    {
     "data": {
      "image/png": "[encoded data removed]",
      "text/plain": [
       "<Figure size 432x288 with 1 Axes>"
      ]
     },
     "metadata": {
      "needs_background": "light"
     },
     "output_type": "display_data"
    }
   ],
   "source": [
    "import numpy as np\n",
    "import matplotlib.pyplot as plt\n",
    "x=np.arange(0.0,4.0*np.pi,0.01)\n",
    "y=np.sin(x)\n",
    "plt.plot(x, y)\n",
    "plt.plot((x.min(),x.max()), (0,0))\n",
    "plt.xlabel('x')\n",
    "plt.ylabel('y')\n",
    "plt.fill_between(x,y, where=(2.3<x) & (x<4.3) | (x>10), facecolor='purple')\n",
    "plt.show()"
   ]
  },
  {
   "cell_type": "code",
   "execution_count": 11,
   "metadata": {},
   "outputs": [
    {
     "data": {
      "text/html": [
       "<div>\n",
       "<style scoped>\n",
       "    .dataframe tbody tr th:only-of-type {\n",
       "        vertical-align: middle;\n",
       "    }\n",
       "\n",
       "    .dataframe tbody tr th {\n",
       "        vertical-align: top;\n",
       "    }\n",
       "\n",
       "    .dataframe thead th {\n",
       "        text-align: right;\n",
       "    }\n",
       "</style>\n",
       "<table border=\"1\" class=\"dataframe\">\n",
       "  <thead>\n",
       "    <tr style=\"text-align: right;\">\n",
       "      <th></th>\n",
       "      <th>0</th>\n",
       "    </tr>\n",
       "  </thead>\n",
       "  <tbody>\n",
       "    <tr>\n",
       "      <td>0</td>\n",
       "      <td>NaN</td>\n",
       "    </tr>\n",
       "    <tr>\n",
       "      <td>1</td>\n",
       "      <td>1.0</td>\n",
       "    </tr>\n",
       "    <tr>\n",
       "      <td>2</td>\n",
       "      <td>1.0</td>\n",
       "    </tr>\n",
       "    <tr>\n",
       "      <td>3</td>\n",
       "      <td>1.0</td>\n",
       "    </tr>\n",
       "    <tr>\n",
       "      <td>4</td>\n",
       "      <td>1.0</td>\n",
       "    </tr>\n",
       "  </tbody>\n",
       "</table>\n",
       "</div>"
      ],
      "text/plain": [
       "     0\n",
       "0  NaN\n",
       "1  1.0\n",
       "2  1.0\n",
       "3  1.0\n",
       "4  1.0"
      ]
     },
     "execution_count": 11,
     "metadata": {},
     "output_type": "execute_result"
    }
   ],
   "source": [
    "A=pd.DataFrame([1,2,3,4,5])\n",
    "\n",
    "B=A-A.shift(1)\n",
    "B"
   ]
  },
  {
   "cell_type": "code",
   "execution_count": 16,
   "metadata": {},
   "outputs": [
    {
     "data": {
      "text/plain": [
       "0    3\n",
       "Name: 2, dtype: int64"
      ]
     },
     "execution_count": 16,
     "metadata": {},
     "output_type": "execute_result"
    }
   ],
   "source": [
    "A.shift(1)\n",
    "A.iloc[3-1]"
   ]
  }
 ],
 "metadata": {
  "kernelspec": {
   "display_name": "Python 3",
   "language": "python",
   "name": "python3"
  },
  "language_info": {
   "codemirror_mode": {
    "name": "ipython",
    "version": 3
   },
   "file_extension": ".py",
   "mimetype": "text/x-python",
   "name": "python",
   "nbconvert_exporter": "python",
   "pygments_lexer": "ipython3",
   "version": "3.7.4"
  }
 },
 "nbformat": 4,
 "nbformat_minor": 2
}
