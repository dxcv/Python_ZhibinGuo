{
 "cells": [
  {
   "cell_type": "markdown",
   "metadata": {},
   "source": [
    "<font size=4 color=\"08#0000\" face=\"Times New Roman\"> The improvement of the Investment Clock Model</font>  "
   ]
  },
  {
   "cell_type": "markdown",
   "metadata": {},
   "source": [
    "<font size=3 face=\"Times New Roman\">Considering two main drawbacks, failing to forecast and low frequency data, of the original investment clock model,in this section we aim to improve this model with monthly leading economic variable.</font>"
   ]
  },
  {
   "cell_type": "code",
   "execution_count": 20,
   "metadata": {},
   "outputs": [],
   "source": [
    "import numpy as np\n",
    "import pandas as pd\n",
    "import os\n",
    "import matplotlib.pyplot as plt"
   ]
  },
  {
   "cell_type": "code",
   "execution_count": 21,
   "metadata": {
    "scrolled": true
   },
   "outputs": [
    {
     "name": "stderr",
     "output_type": "stream",
     "text": [
      "D:\\Software Download\\Ananconda\\anaconda\\lib\\site-packages\\ipykernel_launcher.py:6: SettingWithCopyWarning: \n",
      "A value is trying to be set on a copy of a slice from a DataFrame.\n",
      "Try using .loc[row_indexer,col_indexer] = value instead\n",
      "\n",
      "See the caveats in the documentation: http://pandas.pydata.org/pandas-docs/stable/user_guide/indexing.html#returning-a-view-versus-a-copy\n",
      "  \n"
     ]
    },
    {
     "data": {
      "text/html": [
       "<div>\n",
       "<style scoped>\n",
       "    .dataframe tbody tr th:only-of-type {\n",
       "        vertical-align: middle;\n",
       "    }\n",
       "\n",
       "    .dataframe tbody tr th {\n",
       "        vertical-align: top;\n",
       "    }\n",
       "\n",
       "    .dataframe thead th {\n",
       "        text-align: right;\n",
       "    }\n",
       "</style>\n",
       "<table border=\"1\" class=\"dataframe\">\n",
       "  <thead>\n",
       "    <tr style=\"text-align: right;\">\n",
       "      <th></th>\n",
       "      <th>PPI:当月同比</th>\n",
       "      <th>宏观经济景气指数:先行指数</th>\n",
       "    </tr>\n",
       "    <tr>\n",
       "      <th>日期</th>\n",
       "      <th></th>\n",
       "      <th></th>\n",
       "    </tr>\n",
       "  </thead>\n",
       "  <tbody>\n",
       "    <tr>\n",
       "      <td>1996-10</td>\n",
       "      <td>0.34</td>\n",
       "      <td>101.21</td>\n",
       "    </tr>\n",
       "    <tr>\n",
       "      <td>1996-11</td>\n",
       "      <td>0.04</td>\n",
       "      <td>101.45</td>\n",
       "    </tr>\n",
       "    <tr>\n",
       "      <td>1996-12</td>\n",
       "      <td>0.43</td>\n",
       "      <td>101.47</td>\n",
       "    </tr>\n",
       "    <tr>\n",
       "      <td>1997-01</td>\n",
       "      <td>0.12</td>\n",
       "      <td>101.51</td>\n",
       "    </tr>\n",
       "    <tr>\n",
       "      <td>1997-02</td>\n",
       "      <td>0.44</td>\n",
       "      <td>100.94</td>\n",
       "    </tr>\n",
       "  </tbody>\n",
       "</table>\n",
       "</div>"
      ],
      "text/plain": [
       "         PPI:当月同比  宏观经济景气指数:先行指数\n",
       "日期                              \n",
       "1996-10      0.34         101.21\n",
       "1996-11      0.04         101.45\n",
       "1996-12      0.43         101.47\n",
       "1997-01      0.12         101.51\n",
       "1997-02      0.44         100.94"
      ]
     },
     "execution_count": 21,
     "metadata": {},
     "output_type": "execute_result"
    }
   ],
   "source": [
    "os.chdir(\"D:\\各种材料\\研究生\\公众号\\三、美林时钟模型\")\n",
    "data=pd.read_excel(r\"D:\\各种材料\\研究生\\公众号\\三、美林时钟模型\\模型改进的探索.xlsx\")\n",
    "Indicator_NA=pd.concat([data[\"日期\"],data[\"PPI:当月同比\"],data[\"宏观经济景气指数:先行指数\"]],axis=1)#将原始数据集保留\n",
    "Indicator=Indicator_NA.dropna(0)\n",
    "Indicator_date=Indicator[\"日期\"] #记录原始日期\n",
    "Indicator[\"日期\"]=Indicator_date.map(lambda a : a.strftime('%Y-%m'))\n",
    "Indicator.index=Indicator[\"日期\"]\n",
    "del Indicator[\"日期\"]\n",
    "Indicator.head()"
   ]
  },
  {
   "cell_type": "code",
   "execution_count": 22,
   "metadata": {},
   "outputs": [
    {
     "data": {
      "text/html": [
       "<div>\n",
       "<style scoped>\n",
       "    .dataframe tbody tr th:only-of-type {\n",
       "        vertical-align: middle;\n",
       "    }\n",
       "\n",
       "    .dataframe tbody tr th {\n",
       "        vertical-align: top;\n",
       "    }\n",
       "\n",
       "    .dataframe thead th {\n",
       "        text-align: right;\n",
       "    }\n",
       "</style>\n",
       "<table border=\"1\" class=\"dataframe\">\n",
       "  <thead>\n",
       "    <tr style=\"text-align: right;\">\n",
       "      <th></th>\n",
       "      <th>沪深300</th>\n",
       "      <th>中债-新综合净价(总值)指数</th>\n",
       "      <th>南华商品指数</th>\n",
       "      <th>3个月中国国债收益率</th>\n",
       "    </tr>\n",
       "    <tr>\n",
       "      <th>日期</th>\n",
       "      <th></th>\n",
       "      <th></th>\n",
       "      <th></th>\n",
       "      <th></th>\n",
       "    </tr>\n",
       "  </thead>\n",
       "  <tbody>\n",
       "    <tr>\n",
       "      <td>2004-06</td>\n",
       "      <td>1078.485</td>\n",
       "      <td>96.2277</td>\n",
       "      <td>1007.1169</td>\n",
       "      <td>2.9654</td>\n",
       "    </tr>\n",
       "    <tr>\n",
       "      <td>2004-07</td>\n",
       "      <td>1088.677</td>\n",
       "      <td>96.5451</td>\n",
       "      <td>965.7056</td>\n",
       "      <td>2.5423</td>\n",
       "    </tr>\n",
       "    <tr>\n",
       "      <td>2004-08</td>\n",
       "      <td>1055.970</td>\n",
       "      <td>96.3873</td>\n",
       "      <td>979.0981</td>\n",
       "      <td>2.7620</td>\n",
       "    </tr>\n",
       "    <tr>\n",
       "      <td>2004-09</td>\n",
       "      <td>1109.324</td>\n",
       "      <td>96.0118</td>\n",
       "      <td>996.9959</td>\n",
       "      <td>2.7135</td>\n",
       "    </tr>\n",
       "    <tr>\n",
       "      <td>2004-10</td>\n",
       "      <td>1050.299</td>\n",
       "      <td>95.9732</td>\n",
       "      <td>958.4566</td>\n",
       "      <td>3.0929</td>\n",
       "    </tr>\n",
       "  </tbody>\n",
       "</table>\n",
       "</div>"
      ],
      "text/plain": [
       "            沪深300  中债-新综合净价(总值)指数     南华商品指数  3个月中国国债收益率\n",
       "日期                                                      \n",
       "2004-06  1078.485         96.2277  1007.1169      2.9654\n",
       "2004-07  1088.677         96.5451   965.7056      2.5423\n",
       "2004-08  1055.970         96.3873   979.0981      2.7620\n",
       "2004-09  1109.324         96.0118   996.9959      2.7135\n",
       "2004-10  1050.299         95.9732   958.4566      3.0929"
      ]
     },
     "execution_count": 22,
     "metadata": {},
     "output_type": "execute_result"
    }
   ],
   "source": [
    "price=pd.read_excel(\"D:\\各种材料\\研究生\\公众号\\三、美林时钟模型\\资产价格.xlsx\",\"中国2\")\n",
    "price=price.dropna(0)\n",
    "price_date=price[\"日期\"]\n",
    "price.index=price_date.map(lambda a : a.strftime('%Y-%m'))\n",
    "del price[\"日期\"]\n",
    "price.head()"
   ]
  },
  {
   "cell_type": "markdown",
   "metadata": {},
   "source": [
    "<font size=4 face=\"Times New Roman\" color=\"08#0000\">回测</font>"
   ]
  },
  {
   "cell_type": "code",
   "execution_count": 15,
   "metadata": {},
   "outputs": [
    {
     "data": {
      "text/html": [
       "<div>\n",
       "<style scoped>\n",
       "    .dataframe tbody tr th:only-of-type {\n",
       "        vertical-align: middle;\n",
       "    }\n",
       "\n",
       "    .dataframe tbody tr th {\n",
       "        vertical-align: top;\n",
       "    }\n",
       "\n",
       "    .dataframe thead th {\n",
       "        text-align: right;\n",
       "    }\n",
       "</style>\n",
       "<table border=\"1\" class=\"dataframe\">\n",
       "  <thead>\n",
       "    <tr style=\"text-align: right;\">\n",
       "      <th></th>\n",
       "      <th>PPI:当月同比</th>\n",
       "      <th>宏观经济景气指数:先行指数</th>\n",
       "    </tr>\n",
       "    <tr>\n",
       "      <th>日期</th>\n",
       "      <th></th>\n",
       "      <th></th>\n",
       "    </tr>\n",
       "  </thead>\n",
       "  <tbody>\n",
       "    <tr>\n",
       "      <td>1996-10</td>\n",
       "      <td>0.34</td>\n",
       "      <td>101.21</td>\n",
       "    </tr>\n",
       "    <tr>\n",
       "      <td>1996-11</td>\n",
       "      <td>0.04</td>\n",
       "      <td>101.45</td>\n",
       "    </tr>\n",
       "    <tr>\n",
       "      <td>1996-12</td>\n",
       "      <td>0.43</td>\n",
       "      <td>101.47</td>\n",
       "    </tr>\n",
       "    <tr>\n",
       "      <td>1997-01</td>\n",
       "      <td>0.12</td>\n",
       "      <td>101.51</td>\n",
       "    </tr>\n",
       "    <tr>\n",
       "      <td>1997-02</td>\n",
       "      <td>0.44</td>\n",
       "      <td>100.94</td>\n",
       "    </tr>\n",
       "  </tbody>\n",
       "</table>\n",
       "</div>"
      ],
      "text/plain": [
       "         PPI:当月同比  宏观经济景气指数:先行指数\n",
       "日期                              \n",
       "1996-10      0.34         101.21\n",
       "1996-11      0.04         101.45\n",
       "1996-12      0.43         101.47\n",
       "1997-01      0.12         101.51\n",
       "1997-02      0.44         100.94"
      ]
     },
     "execution_count": 15,
     "metadata": {},
     "output_type": "execute_result"
    }
   ],
   "source": [
    "Indicator.iloc[0:5]"
   ]
  },
  {
   "cell_type": "code",
   "execution_count": 45,
   "metadata": {},
   "outputs": [],
   "source": [
    "def Investment_Clock_Improvement(Indicator,price, lag_e,lag_i,method_e,method_i):\n",
    "    #The function is to identify the circle in American Investment Clock Model\n",
    "    #D is DataFrame,lag_e is the lag term of the ecomony indicator is the lag term, method={\"Directly\",\"Average\"}\n",
    "    name=Indicator.columns\n",
    "    name_i=name[0]####????会有问题，一定要通胀在前，经济在后\n",
    "    name_e=name[1]\n",
    "    L=len(Indicator)\n",
    "    pos0=max(lag_e,lag_i)#最大滞后项。\n",
    "    \n",
    "    R=[]#储存月收益率\n",
    "    start_month=[]#储存起始月份\n",
    "    end_month=[]#储存种植月份\n",
    "    Asset_Order=[]#储存每期资产排名\n",
    "    Asset_Select=[]#储存每期资产\n",
    "    RightOrWrong=[]#是否选择了收益率为正的资产\n",
    "    circle_type=[]#记录周期类型\n",
    "    Asset_Rank=[]#记录所选择资产的排名\n",
    "    \n",
    "    for i in range(pos0,L-1):\n",
    "        month_beg=Indicator.index[i]\n",
    "        if month_beg not in price.index: #Indicator中的日期在\n",
    "            continue\n",
    "            \n",
    "        if method_e==\"Directly\":\n",
    "            trend_e=np.sign(Indicator.iloc[i][name_e]-Indicator.iloc[i-lag_e][name_e])\n",
    "        else:\n",
    "            trend_e=np.sign(Indicator.iloc[i][name_e]-Indicator.iloc[i-lag_e:i][name_e].mean())\n",
    "            \n",
    "        if method_i==\"Directly\":\n",
    "            trend_i= np.sign(Indicator.iloc[i][name_i]-Indicator.iloc[i-lag_i][name_i])\n",
    "        else:\n",
    "            trend_i= np.sign(Indicator.iloc[i][name_i]-Indicator.iloc[i-lag_i:i][name_i].mean())        \n",
    "        \n",
    "        \n",
    "        #判断资产的选择类型\n",
    "        if (trend_e==1) and (trend_i==-1):#复苏\n",
    "            asset='沪深300'\n",
    "            circle=0\n",
    "        elif (trend_e==1) and (trend_i==1):#过热\n",
    "            asset='南华商品指数'\n",
    "            circle=1\n",
    "        elif (trend_e==-1) and (trend_i==-1):#衰退\n",
    "            asset='中债-新综合净价(总值)指数'\n",
    "            circle=3\n",
    "        else:\n",
    "            asset='3个月中国国债收益率' #滞胀\n",
    "            circle=2\n",
    "            \n",
    "        month_beg=Indicator.index[i]\n",
    "        month_end=Indicator.index[i+1]\n",
    "        result_monthly=month_return(price,asset,month_beg,month_end)\n",
    "        \n",
    "        #插入到已知列表\n",
    "        month_r=result_monthly[0]\n",
    "        order=result_monthly[1]\n",
    "        rank=result_monthly[2]\n",
    "        PosOrNeg=result_monthly[3]\n",
    "        \n",
    "        R.append(month_r)\n",
    "        start_month.append(Indicator.index[i])\n",
    "        end_month.append(Indicator.index[i+1])\n",
    "        circle_type.append(circle)\n",
    "        Asset_Order.append(order)\n",
    "        Asset_Select.append(asset)\n",
    "        RightOrWrong.append(PosOrNeg)\n",
    "        Asset_Rank.append(rank)\n",
    "        \n",
    "        output=[start_month, end_month, Asset_Order,circle_type,Asset_Select,R,Asset_Rank,RightOrWrong]\n",
    "        \n",
    "    return output"
   ]
  },
  {
   "cell_type": "code",
   "execution_count": 46,
   "metadata": {},
   "outputs": [],
   "source": [
    "def month_return(price,asset,month_beg,month_end):\n",
    "    if month_end in price.index:\n",
    "        r=price.loc[month_end]/price.loc[month_beg]-1\n",
    "        r[\"3个月中国国债收益率\"]=(price.loc[month_end][\"3个月中国国债收益率\"]-price.loc[month_beg][\"3个月中国国债收益率\"])/100\n",
    "        month_r=r[asset]\n",
    "        r_sort=r.sort_values(ascending=False)#收益率排序\n",
    "        order=list(r_sort.index)#按收益率从高到低的资产名称\n",
    "        rank=order.index(asset)+1#得到4类资产中的排名\n",
    "        if r[asset]>0:\n",
    "            PosOrNeg=1 #即选中了收益率大于零的资产\n",
    "        else:\n",
    "            PosOrNeg=0  \n",
    "        res=[month_r,order,rank,PosOrNeg]\n",
    "    else:\n",
    "        res=[np.nan,[np.nan,np.nan,np.nan,np.nan],np.nan,np.nan]\n",
    "    return res"
   ]
  },
  {
   "cell_type": "markdown",
   "metadata": {},
   "source": [
    "<font color=\"08#0000\" size=4 face=\"Times New Roman\">净值及风险指标计算</font>"
   ]
  },
  {
   "cell_type": "code",
   "execution_count": 47,
   "metadata": {},
   "outputs": [],
   "source": [
    "import math\n",
    "def res_output(Indicator, price,lag_e,lag_i, method_e,method_i):\n",
    "    res=Investment_Clock_Improvement(Indicator,price,lag_e,lag_i,method_e,method_i)\n",
    "    #计算净值\n",
    "    r=res[5]\n",
    "    r_plus1=np.array(r)+1\n",
    "    nav=np.cumprod(r_plus1)\n",
    "    nav=pd.DataFrame(nav,index=res[1],columns=['净值'])\n",
    "    start_date=res[0][0]\n",
    "    nav.loc[start_date]=1\n",
    "    nav=nav.sort_index()\n",
    "    plt.plot(nav)\n",
    "    \n",
    "    #计算风险值指标\n",
    "    whole_return=nav.values\n",
    "    annual_return=(whole_return[-1][0])**(12/len(whole_return))-1\n",
    "    annual_vol=r_plus1.std()*math.sqrt(12)\n",
    "    sharp=annual_return/annual_vol\n",
    "    return_list=whole_return\n",
    "    max_turndown=((np.maximum.accumulate(return_list) - return_list) / np.maximum.accumulate(return_list)).max()\n",
    "    calmar=annual_return/max_turndown\n",
    "    \n",
    "    #数据保存\n",
    "    filename=\"Clock中国改进回测\"+method_e+str(lag_e)+method_i+str(lag_i)+\" .xlsx\"\n",
    "    writer=pd.ExcelWriter(filename)\n",
    "    nav.to_excel(writer,'净值',float_format='%.5f')\n",
    "    #回测过程具体信息\n",
    "    end_month=pd.DataFrame(res[1],index=res[0],columns=['终止日期'])\n",
    "    assetorder=pd.DataFrame(res[2],index=res[0],columns=['1st','2nd','3rd','4th'])\n",
    "    circle_type=pd.DataFrame(res[3],index=res[0],columns=['周期类型'])\n",
    "    assetselect=pd.DataFrame(res[4],index=res[0],columns=['所选资产'])\n",
    "    R=pd.DataFrame(res[5],index=res[0],columns=['所选资产月收益率'])\n",
    "    SelectRank=pd.DataFrame(res[6],index=res[0],columns=['所选资产排名'])\n",
    "    RightOrWrong=pd.DataFrame(res[7],index=res[0],columns=['所选资产收益率是否为正'])\n",
    "    res=pd.concat([end_month,assetorder,circle_type,assetselect,R,SelectRank,RightOrWrong],axis=1)\n",
    "    res.to_excel(writer,'回测过程',float_format='%.5f')\n",
    "    \n",
    "    #风险指标信息\n",
    "    valuation_factor=np.array([annual_return, annual_vol,sharp,max_turndown, calmar])\n",
    "    Valuation=pd.DataFrame(valuation_factor,columns=[\"风险评价指标\"],index=['年化收益率','年化波动率','夏普比例','最大回撤','Calmar'])\n",
    "    Valuation.to_excel(writer,'风险评价指标',float_format='%.5f')\n",
    "    writer.save()\n",
    "    return  valuation_factor"
   ]
  },
  {
   "cell_type": "code",
   "execution_count": 48,
   "metadata": {},
   "outputs": [
    {
     "data": {
      "text/plain": [
       "array([0.13571689, 0.17379504, 0.78090197, 0.24215329, 0.5604586 ])"
      ]
     },
     "execution_count": 48,
     "metadata": {},
     "output_type": "execute_result"
    },
    {
     "data": {
      "image/png": "[encoded data removed]",
      "text/plain": [
       "<Figure size 432x288 with 1 Axes>"
      ]
     },
     "metadata": {
      "needs_background": "light"
     },
     "output_type": "display_data"
    }
   ],
   "source": [
    "## Investment_Clock_Improvement(Indicator,price, lag_e,lag_i,method_e,method_i):\n",
    "Valuation=res_output(Indicator, price,4,2, 'Directly','Directly')\n",
    "Valuation"
   ]
  }
 ],
 "metadata": {
  "kernelspec": {
   "display_name": "Python 3",
   "language": "python",
   "name": "python3"
  },
  "language_info": {
   "codemirror_mode": {
    "name": "ipython",
    "version": 3
   },
   "file_extension": ".py",
   "mimetype": "text/x-python",
   "name": "python",
   "nbconvert_exporter": "python",
   "pygments_lexer": "ipython3",
   "version": "3.7.4"
  }
 },
 "nbformat": 4,
 "nbformat_minor": 2
}
