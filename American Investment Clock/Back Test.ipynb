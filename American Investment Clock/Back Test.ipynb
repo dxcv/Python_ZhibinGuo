{
 "cells": [
  {
   "cell_type": "markdown",
   "metadata": {},
   "source": [
    "<font face=\"黑体\" size=4 color=#8B0000> 美林时钟模型资产配置回测 </font>"
   ]
  },
  {
   "cell_type": "code",
   "execution_count": 18,
   "metadata": {},
   "outputs": [],
   "source": [
    "import pandas as pd\n",
    "import numpy as np\n",
    "import os\n",
    "import matplotlib.pyplot as plt\n",
    "os.chdir(\"D:\\各种材料\\研究生\\公众号\\三、美林时钟模型\")"
   ]
  },
  {
   "cell_type": "markdown",
   "metadata": {},
   "source": [
    "<font size=4 color ='08#0000' face='黑体'>获得用于周期判断的产出缺口和CPI同比</font>"
   ]
  },
  {
   "cell_type": "code",
   "execution_count": 19,
   "metadata": {},
   "outputs": [
    {
     "data": {
      "text/plain": [
       "Text(0, 0.5, 'CPI同比')"
      ]
     },
     "execution_count": 19,
     "metadata": {},
     "output_type": "execute_result"
    },
    {
     "data": {
      "image/png": "[encoded data removed]",
      "text/plain": [
       "<Figure size 432x288 with 2 Axes>"
      ]
     },
     "metadata": {
      "needs_background": "light"
     },
     "output_type": "display_data"
    }
   ],
   "source": [
    "from pylab import *\n",
    "mpl.rcParams['font.sans-serif'] = ['SimHei'] # for the normal demonstration of chinese words\n",
    "#china=pd.read_excel('中国经济一致指数通胀滤波.xlsx')\n",
    "china=pd.read_excel('中国GDPCPI滤波.xlsx')\n",
    "eco=china['产出缺口']\n",
    "cpi=china['CPI同比']\n",
    "x=china['日期']\n",
    "fig,ax1=plt.subplots()\n",
    "ax2=ax1.twinx()\n",
    "ax1.plot(x,eco,color='b')\n",
    "ax2.plot(x,cpi,color='r')\n",
    "ax1.set_ylabel(\"产出缺口\",color=\"b\")\n",
    "ax2.set_ylabel(\"CPI同比\",color=\"r\")"
   ]
  },
  {
   "cell_type": "markdown",
   "metadata": {},
   "source": [
    "<font size=4 color ='08#0000' face='黑体'>获得周期信号</font>"
   ]
  },
  {
   "cell_type": "code",
   "execution_count": 20,
   "metadata": {},
   "outputs": [],
   "source": [
    "def Circle_Identify(D):\n",
    "    #The function is to identify the circle in American Investment Clock Model\n",
    "    #D is DataFrame\n",
    "    eco=D['产出缺口']\n",
    "    cpi=D['CPI同比']\n",
    "    eco_s=np.sign(D['产出缺口']-D['产出缺口'].shift(1))\n",
    "    cpi_s=np.sign(D['CPI同比']-D['CPI同比'].shift(1))\n",
    "    eco_signal=np.sign(eco_s*eco_s.shift(-1))# 1: trend no change; -1: trend change\n",
    "    cpi_signal=np.sign(cpi_s*cpi_s.shift(-1))# 1: trend no change; -1: trend change\n",
    "    eco_pos=eco_signal[eco_signal==-1].index.tolist()  #the position where the gdp trend changes  \n",
    "    cpi_pos=cpi_signal[cpi_signal==-1].index.tolist()  #the position where the cpi trend changes\n",
    "    change=set(cpi_pos+eco_pos) \n",
    "    change=list(change)# the index where the change happened\n",
    "    change.sort()\n",
    "    circle_type=[]#record the type of the circle 0: recovery, 1:overheat, 2:stagflation, 3:decline\n",
    "    for pos in range(0,len(change)):\n",
    "        compare=D.iloc[change[pos]][0:3]-D.iloc[change[pos]-1][0:3] \n",
    "        if (change[pos] in eco_pos and change[pos] in cpi_pos ):#both the gdp & cpi trend change\n",
    "            if ((compare['产出缺口']<0)&(compare['CPI同比']<0)): #later the gdp grows, cpi grows, overheat:1 \n",
    "                circle_type.append(1) #recording the circle type of the next period\n",
    "            elif((compare['产出缺口']<0)&(compare['CPI同比']>0)):#later the gdp grows, cpi decrease, recovery:0\n",
    "                circle_type.append(0)\n",
    "            elif((compare['产出缺口']>0)&(compare['CPI同比']>0)):#later the gdp decrease, cpi deccrease,decline:3 \n",
    "                circle_type.append(3)\n",
    "            else:\n",
    "                circle_type.append(2) #later the gdp decrease, cpi grows, stagflation: 2\n",
    "        else:#single signal trend change\n",
    "            if change[pos] in eco_pos: #gdp trend change, cpi trend stays\n",
    "                if ((compare['产出缺口']<0)&(compare['CPI同比']<=0)): #later the gdp grows, cpi decrease, recovery:0 \n",
    "                    circle_type.append(0) #recording the circle type of the next period\n",
    "                elif((compare['产出缺口']<0)&(compare['CPI同比']>=0)):#later the gdp grows, cpi grows, overheat:1 \n",
    "                    circle_type.append(1)\n",
    "                elif((compare['产出缺口']>0)&(compare['CPI同比']>=0)):#later the gdp decrease, cpi grows,stagflation: 2 \n",
    "                    circle_type.append(2)\n",
    "                else:\n",
    "                    circle_type.append(3) #later the gdp decrease, cpi grows, decline:3\n",
    "            else: #cpi treend change\n",
    "                if ((compare['产出缺口']<0)&(compare['CPI同比']<0)): #later the gdp decreases, cpi grows,stagflation: 2  \n",
    "                    circle_type.append(2) #recording the circle type of the next period\n",
    "                elif((compare['产出缺口']<0)&(compare['CPI同比']>0)):#later the gdp decreases, cpi decreases,decline:3 \n",
    "                    circle_type.append(3)\n",
    "                elif((compare['产出缺口']>0)&(compare['CPI同比']>0)):#later the gdp grows, cpi decreases,recovery: 0\n",
    "                    circle_type.append(0)\n",
    "                else:\n",
    "                    circle_type.append(1) #later the gdp grows, cpi grows, overheat:1     \n",
    "    return [change,circle_type]"
   ]
  },
  {
   "cell_type": "code",
   "execution_count": 21,
   "metadata": {},
   "outputs": [],
   "source": [
    "clock_china=[x,eco,cpi]\n",
    "clock_china=pd.concat(clock_china, axis=1)\n",
    "[change,circle_type]= Circle_Identify(clock_china)# change: record the index of circle change in the china; circle_type: record the circle type"
   ]
  },
  {
   "cell_type": "markdown",
   "metadata": {},
   "source": [
    "<font size=4 color ='08#0000' face='黑体'>导入大类资产价格</font>"
   ]
  },
  {
   "cell_type": "code",
   "execution_count": 22,
   "metadata": {},
   "outputs": [
    {
     "data": {
      "text/html": [
       "<div>\n",
       "<style scoped>\n",
       "    .dataframe tbody tr th:only-of-type {\n",
       "        vertical-align: middle;\n",
       "    }\n",
       "\n",
       "    .dataframe tbody tr th {\n",
       "        vertical-align: top;\n",
       "    }\n",
       "\n",
       "    .dataframe thead th {\n",
       "        text-align: right;\n",
       "    }\n",
       "</style>\n",
       "<table border=\"1\" class=\"dataframe\">\n",
       "  <thead>\n",
       "    <tr style=\"text-align: right;\">\n",
       "      <th></th>\n",
       "      <th>沪深300</th>\n",
       "      <th>中债-新综合净价(总值)指数</th>\n",
       "      <th>南华商品指数</th>\n",
       "      <th>货币基金</th>\n",
       "    </tr>\n",
       "    <tr>\n",
       "      <th>日期</th>\n",
       "      <th></th>\n",
       "      <th></th>\n",
       "      <th></th>\n",
       "      <th></th>\n",
       "    </tr>\n",
       "  </thead>\n",
       "  <tbody>\n",
       "    <tr>\n",
       "      <td>2004-06-30</td>\n",
       "      <td>1078.4850</td>\n",
       "      <td>96.2277</td>\n",
       "      <td>1007.1169</td>\n",
       "      <td>963.9150</td>\n",
       "    </tr>\n",
       "    <tr>\n",
       "      <td>2004-07-30</td>\n",
       "      <td>1088.6770</td>\n",
       "      <td>96.5451</td>\n",
       "      <td>965.7056</td>\n",
       "      <td>965.7887</td>\n",
       "    </tr>\n",
       "    <tr>\n",
       "      <td>2004-08-31</td>\n",
       "      <td>1055.9700</td>\n",
       "      <td>96.3873</td>\n",
       "      <td>979.0981</td>\n",
       "      <td>967.8995</td>\n",
       "    </tr>\n",
       "    <tr>\n",
       "      <td>2004-09-30</td>\n",
       "      <td>1109.3240</td>\n",
       "      <td>96.0118</td>\n",
       "      <td>996.9959</td>\n",
       "      <td>969.9913</td>\n",
       "    </tr>\n",
       "    <tr>\n",
       "      <td>2004-10-29</td>\n",
       "      <td>1050.2990</td>\n",
       "      <td>95.9732</td>\n",
       "      <td>958.4566</td>\n",
       "      <td>971.9698</td>\n",
       "    </tr>\n",
       "    <tr>\n",
       "      <td>...</td>\n",
       "      <td>...</td>\n",
       "      <td>...</td>\n",
       "      <td>...</td>\n",
       "      <td>...</td>\n",
       "    </tr>\n",
       "    <tr>\n",
       "      <td>2019-09-30</td>\n",
       "      <td>3814.5282</td>\n",
       "      <td>100.2526</td>\n",
       "      <td>1470.2700</td>\n",
       "      <td>1540.3365</td>\n",
       "    </tr>\n",
       "    <tr>\n",
       "      <td>2019-10-31</td>\n",
       "      <td>3886.7519</td>\n",
       "      <td>99.8088</td>\n",
       "      <td>1462.8200</td>\n",
       "      <td>1543.5310</td>\n",
       "    </tr>\n",
       "    <tr>\n",
       "      <td>2019-11-29</td>\n",
       "      <td>3828.6706</td>\n",
       "      <td>100.2544</td>\n",
       "      <td>1473.2500</td>\n",
       "      <td>1546.5647</td>\n",
       "    </tr>\n",
       "    <tr>\n",
       "      <td>2019-12-31</td>\n",
       "      <td>4096.5821</td>\n",
       "      <td>100.5936</td>\n",
       "      <td>1531.4800</td>\n",
       "      <td>1550.1054</td>\n",
       "    </tr>\n",
       "    <tr>\n",
       "      <td>2020-01-23</td>\n",
       "      <td>4003.9013</td>\n",
       "      <td>100.9669</td>\n",
       "      <td>1486.5600</td>\n",
       "      <td>1552.5858</td>\n",
       "    </tr>\n",
       "  </tbody>\n",
       "</table>\n",
       "<p>188 rows × 4 columns</p>\n",
       "</div>"
      ],
      "text/plain": [
       "                沪深300  中债-新综合净价(总值)指数     南华商品指数       货币基金\n",
       "日期                                                         \n",
       "2004-06-30  1078.4850         96.2277  1007.1169   963.9150\n",
       "2004-07-30  1088.6770         96.5451   965.7056   965.7887\n",
       "2004-08-31  1055.9700         96.3873   979.0981   967.8995\n",
       "2004-09-30  1109.3240         96.0118   996.9959   969.9913\n",
       "2004-10-29  1050.2990         95.9732   958.4566   971.9698\n",
       "...               ...             ...        ...        ...\n",
       "2019-09-30  3814.5282        100.2526  1470.2700  1540.3365\n",
       "2019-10-31  3886.7519         99.8088  1462.8200  1543.5310\n",
       "2019-11-29  3828.6706        100.2544  1473.2500  1546.5647\n",
       "2019-12-31  4096.5821        100.5936  1531.4800  1550.1054\n",
       "2020-01-23  4003.9013        100.9669  1486.5600  1552.5858\n",
       "\n",
       "[188 rows x 4 columns]"
      ]
     },
     "execution_count": 22,
     "metadata": {},
     "output_type": "execute_result"
    }
   ],
   "source": [
    "price=pd.read_excel('资产价格.xlsx','中国')\n",
    "price.index=price['日期']\n",
    "del price['日期']\n",
    "price=price.dropna(0)#去除包含NaN的行\n",
    "price"
   ]
  },
  {
   "cell_type": "code",
   "execution_count": 23,
   "metadata": {},
   "outputs": [],
   "source": [
    "#将日期都处理为仅为月度数据\n",
    "clock_china['日期']= clock_china['日期'].map(lambda a : a.strftime('%Y-%m')) \n",
    "price.index=price.index.map(lambda a: a.strftime('%Y-%m'))"
   ]
  },
  {
   "cell_type": "markdown",
   "metadata": {},
   "source": [
    "<font face='黑体' size= 4 color=#8B0000 >回测实现 </font>"
   ]
  },
  {
   "cell_type": "code",
   "execution_count": 24,
   "metadata": {},
   "outputs": [],
   "source": [
    "def period_return(d1,d2,circle,D):\n",
    "    #d1,d2是持有资产的起始和终止日期\n",
    "    if circle==0:\n",
    "        asset='沪深300'\n",
    "    elif circle==1:\n",
    "        asset='南华商品指数'\n",
    "    elif circle==2:\n",
    "        asset='货币基金'\n",
    "    else:\n",
    "        asset='中债-新综合净价(总值)指数'\n",
    "    asset_choose=D[asset][d1:d2]#选中投资资产\n",
    "    temp_r=asset_choose/asset_choose.shift(1)-1\n",
    "    temp_r=temp_r.dropna()\n",
    "    date=list(temp_r.index)\n",
    "    ret=list(temp_r.values)\n",
    "    #返回整个时间段内的各资产收益率的排名情况，并返回所选择资产的总收益率排名\n",
    "    P=D[d1:d2]#获得所有资产该段时间的价格\n",
    "    r_period=P.iloc[-1]/P.iloc[0]-1#计算各资产的收益率\n",
    "    if r_period[asset]>0:\n",
    "        SelectPos=1 #即选中了收益率大于零的资产\n",
    "    else:\n",
    "        SelectPos=0\n",
    "    temp_r=r_period.sort_values(ascending=False)#收益率排序\n",
    "    assetrank=list(temp_r.index)#按收益率从高到低的资产名称\n",
    "    rank=assetrank.index(asset)+1#得到4类资产中的排名\n",
    "    return [ret,date,assetrank,asset,rank,SelectPos] #ret 从起始日之后的第一期记录，日期也是。"
   ]
  },
  {
   "cell_type": "code",
   "execution_count": 25,
   "metadata": {},
   "outputs": [],
   "source": [
    "testdate=[]#record the asset changing day/monthly\n",
    "r=[]#record the return/ monthly\n",
    "\n",
    "changedate=[]#记录周期类型改变的日期\n",
    "assetrank=[]#记录这段期间各资产收益率排名（降序）\n",
    "assetselect=[]#记录选择的资产\n",
    "SelectRank=[]#记录所选择资产的收益率排名\n",
    "RightOrWrong=[] #是否选择了收益为正的资产\n",
    "\n",
    "for nbr in  range(len(change)): \n",
    "    if clock_china['日期'][change[nbr]] in price.index:\n",
    "        circletype=circle_type[nbr]\n",
    "        changedate.append(clock_china['日期'][change[nbr]])\n",
    "        if (nbr< len(change)-1):\n",
    "            res=period_return(clock_china['日期'][change[nbr]],clock_china['日期'][change[nbr+1]],circletype,price)\n",
    "            temp_r=res[0]\n",
    "            temp_d=res[1]\n",
    "        else:\n",
    "            res=period_return(clock_china['日期'][change[nbr]],price.index[-1],circletype,price)\n",
    "            temp_r=res[0]\n",
    "            temp_d=res[1]\n",
    "        r=r+temp_r #直接将收益率列表合并了\n",
    "        testdate=testdate+temp_d\n",
    "        assetrank.append(res[2])\n",
    "        assetselect.append([res[3]])\n",
    "        SelectRank.append(res[4])\n",
    "        RightOrWrong.append(res[5])\n",
    "    else:\n",
    "        ;\n",
    "    nbr=nbr+1 "
   ]
  },
  {
   "cell_type": "code",
   "execution_count": 26,
   "metadata": {},
   "outputs": [
    {
     "data": {
      "text/plain": [
       "[<matplotlib.lines.Line2D at 0x2109c51dd48>]"
      ]
     },
     "execution_count": 26,
     "metadata": {},
     "output_type": "execute_result"
    },
    {
     "data": {
      "image/png": "[encoded data removed]",
      "text/plain": [
       "<Figure size 432x288 with 1 Axes>"
      ]
     },
     "metadata": {
      "needs_background": "light"
     },
     "output_type": "display_data"
    }
   ],
   "source": [
    "r_plus1=np.array(r)+1\n",
    "nav=np.cumprod(r_plus1)\n",
    "nav=pd.DataFrame(nav,index=testdate,columns=['净值'])\n",
    "start_date=changedate[0]\n",
    "nav.loc[start_date]=1\n",
    "nav=nav.sort_index()\n",
    "plt.plot(nav)"
   ]
  },
  {
   "cell_type": "code",
   "execution_count": 27,
   "metadata": {},
   "outputs": [],
   "source": [
    "circle_type=pd.DataFrame(circle_type,index=clock_china['日期'][change],columns=['周期类型'])\n",
    "writer=pd.ExcelWriter(\"中国GDPCPI滤波回测结果.xlsx\")\n",
    "nav.to_excel(writer,'净值',float_format='%.5f')\n",
    "circle_type.to_excel(writer,'周期类型',float_format='%.5f')\n",
    "\n",
    "#回测过程具体信息\n",
    "assetrank=pd.DataFrame(assetrank,index=changedate,columns=['1st','2nd','3rd','4th'])\n",
    "assetselect=pd.DataFrame(assetselect,index=changedate,columns=['所选资产'])\n",
    "SelectRank=pd.DataFrame(SelectRank,index=changedate,columns=['所选资产排名'])\n",
    "RightOrWrong=pd.DataFrame(RightOrWrong,index=changedate,columns=['所选资产收益率是否为正'])\n",
    "res=pd.concat([assetrank,assetselect,SelectRank,RightOrWrong],axis=1)\n",
    "res.to_excel(writer,'回测过程',float_format='%.5f')\n",
    "writer.save()"
   ]
  },
  {
   "cell_type": "markdown",
   "metadata": {},
   "source": [
    "<font face='黑体' size= 4 color=#8B0000 >相关指标 </font>"
   ]
  },
  {
   "cell_type": "code",
   "execution_count": 28,
   "metadata": {},
   "outputs": [
    {
     "name": "stdout",
     "output_type": "stream",
     "text": [
      "年化收益率 [0.15312892]\n",
      "年化波动率 0.17274668534933668\n",
      "夏普比率 [0.88643623]\n",
      "最大回撤 0.2951325277707949\n",
      "Calmar [0.518848]\n"
     ]
    }
   ],
   "source": [
    "whole_return=nav.values\n",
    "annual_return=(whole_return[-1])**(12/len(whole_return))-1\n",
    "print('年化收益率',annual_return)\n",
    "\n",
    "#计算年化波动率\n",
    "import math\n",
    "annual_vol=r_plus1.std()*math.sqrt(12)\n",
    "print('年化波动率',annual_vol)\n",
    "\n",
    "#计算夏普比率\n",
    "print('夏普比率',(annual_return/annual_vol))\n",
    "\n",
    "#计算最大回撤\n",
    "return_list=whole_return\n",
    "max_turndown=((np.maximum.accumulate(return_list) - return_list) / np.maximum.accumulate(return_list)).max()\n",
    "print('最大回撤',max_turndown)\n",
    "\n",
    "#计算Calmar值\n",
    "calmar=annual_return/max_turndown\n",
    "print('Calmar',calmar)"
   ]
  }
 ],
 "metadata": {
  "kernelspec": {
   "display_name": "Python 3",
   "language": "python",
   "name": "python3"
  },
  "language_info": {
   "codemirror_mode": {
    "name": "ipython",
    "version": 3
   },
   "file_extension": ".py",
   "mimetype": "text/x-python",
   "name": "python",
   "nbconvert_exporter": "python",
   "pygments_lexer": "ipython3",
   "version": "3.7.4"
  }
 },
 "nbformat": 4,
 "nbformat_minor": 2
}
