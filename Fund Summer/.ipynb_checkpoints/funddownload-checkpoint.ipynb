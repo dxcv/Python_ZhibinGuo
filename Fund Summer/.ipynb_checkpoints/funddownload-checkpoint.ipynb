{
 "cells": [
  {
   "cell_type": "markdown",
   "metadata": {},
   "source": [
    "<font face=\"黑体\" size=4 color=#8B0000> Fund Download & IC</font>"
   ]
  },
  {
   "cell_type": "code",
   "execution_count": 1,
   "metadata": {},
   "outputs": [
    {
     "name": "stdout",
     "output_type": "stream",
     "text": [
      "Welcome to use Wind Quant API for Python (WindPy)!\n",
      "\n",
      "COPYRIGHT (C) 2017 WIND INFORMATION CO., LTD. ALL RIGHTS RESERVED.\n",
      "IN NO CIRCUMSTANCE SHALL WIND BE RESPONSIBLE FOR ANY DAMAGES OR LOSSES CAUSED BY USING WIND QUANT API FOR Python.\n"
     ]
    },
    {
     "data": {
      "text/plain": [
       "True"
      ]
     },
     "execution_count": 1,
     "metadata": {},
     "output_type": "execute_result"
    }
   ],
   "source": [
    "import pandas as pd\n",
    "import numpy as  np\n",
    "from datetime import datetime\n",
    "from WindPy import w\n",
    "w.start() #w.stop() 终止使用wind\n",
    "w.isconnected()#判断WindPy是否链接成功"
   ]
  },
  {
   "cell_type": "markdown",
   "metadata": {},
   "source": [
    "<font face=\"黑体\" size=4 color=#8B0000> 1、数据下载与IC计算函数</font>"
   ]
  },
  {
   "cell_type": "code",
   "execution_count": 2,
   "metadata": {},
   "outputs": [],
   "source": [
    "def FundDownload(date_download):\n",
    "    for D in date_download:\n",
    "        #下载权益型基金\n",
    "        w_wset_data1=w.wset(\"sectorconstituent\",\"date=\"+D+\";sectorid=2001010101000000\",usedf=True)#普通股票型基金\n",
    "        commenstock=w_wset_data1[1]\n",
    "        w_wset_data2=w.wset(\"sectorconstituent\",\"date=\"+D+\";sectorid=2001010103000000\",usedf=True)#指数增强型基金\n",
    "        indexenhancement=w_wset_data2[1]\n",
    "        w_wset_data3=w.wset(\"sectorconstituent\",\"date=\"+D+\";sectorid=2001010201000000\",usedf=True)#偏股混合型基金\n",
    "        stockmix=w_wset_data3[1]\n",
    "    \n",
    "        #基金整合\n",
    "        fund_para=commenstock.append([indexenhancement,stockmix],ignore_index=True)#所有主动权益性基金\n",
    "        fund_para.index=fund_para['wind_code']\n",
    "        del fund_para['wind_code']\n",
    "        fund_para['date'] = fund_para['date'].apply(lambda x : x.strftime('%Y-%m-%d'))\n",
    "        fundcode=list(fund_para.index)#基金代码\n",
    " \n",
    "        #下载基金指标\n",
    "        fund_values_temp=w.wss(fundcode,\"netasset_total,nav,return_q\",\"tradeDate=\"+D+\"; unit=1\",usedf=True)\n",
    "        fund_values=fund_values_temp[1]\n",
    "        data=pd.concat([fund_para,fund_values],axis=1)\n",
    "  \n",
    "        #储存至excel\n",
    "        name=D+\".xlsx\" #'D:\\各种材料\\研究生\\python练习\\Python_ZhibinGuo\\Fund Summer\\基金数据\\ '\n",
    "        writer=pd.ExcelWriter(name)\n",
    "        data.to_excel(writer,float_format='%.5f')\n",
    "        writer.save()"
   ]
  },
  {
   "cell_type": "code",
   "execution_count": 3,
   "metadata": {},
   "outputs": [],
   "source": [
    "def InformCoef(factor,R,rank):\n",
    "    #该函数计算IC值或者RANKIC值\n",
    "    # 输入：factor 为因子值序列，R为对应的收益率序列，rank(0或1)：0计算IC值，1计算RANKIC值\n",
    "    #输出：IC值或者RANKIC值\n",
    "    \n",
    "    if rank==0:\n",
    "        temp=pd.concat([scale,share],axis=1)\n",
    "        corr_mtx=temp.corr()\n",
    "        corrcoef= corr_mtx.iloc[0,1]\n",
    "    else:\n",
    "        rank_factor=factor.rank(method=\"first\",ascending=False)#默认降序排列\n",
    "        rank_R=R.rank(method=\"first\",ascending=False)#默认降序排列\n",
    "        temp=pd.concat([rank_factor,rank_R],axis=1)\n",
    "        corr_mtx=temp.corr()\n",
    "        corrcoef= corr_mtx.iloc[0,1]\n",
    "    return corrcoef"
   ]
  },
  {
   "cell_type": "markdown",
   "metadata": {},
   "source": [
    "<font face=\"黑体\" size=4 color=#8B0000> 2、IC值计算</font>"
   ]
  },
  {
   "cell_type": "code",
   "execution_count": 5,
   "metadata": {},
   "outputs": [],
   "source": [
    "import os\n",
    "import matplotlib.pyplot as plt\n",
    "os.chdir(\"D:\\各种材料\\研究生\\python练习\\Python_ZhibinGuo\\Fund Summer\\基金数据\")"
   ]
  },
  {
   "cell_type": "code",
   "execution_count": 7,
   "metadata": {},
   "outputs": [],
   "source": [
    "#需要下载数据的日期\n",
    "date_download=[]\n",
    "for year in range(2007,2020):\n",
    "    for k in range (1,5):\n",
    "        if k==1:\n",
    "            date_download.append(datetime(year,3,31).strftime('%Y%m%d'))\n",
    "        elif k==2:\n",
    "            date_download.append(datetime(year,6,30).strftime('%Y%m%d'))\n",
    "        elif k==3:\n",
    "            date_download.append(datetime(year,9,30).strftime('%Y%m%d'))\n",
    "        else:\n",
    "            date_download.append(datetime(year,12,31).strftime('%Y%m%d'))  \n",
    "\n",
    "#下载数据到指定文件夹\n",
    "FundDownload(date_download)      "
   ]
  },
  {
   "cell_type": "code",
   "execution_count": 88,
   "metadata": {},
   "outputs": [
    {
     "name": "stderr",
     "output_type": "stream",
     "text": [
      "D:\\Software Download\\Anaconda\\lib\\site-packages\\ipykernel_launcher.py:27: FutureWarning: Sorting because non-concatenation axis is not aligned. A future version\n",
      "of pandas will change to not sort by default.\n",
      "\n",
      "To accept the future behavior, pass 'sort=False'.\n",
      "\n",
      "To retain the current behavior and silence the warning, pass 'sort=True'.\n",
      "\n"
     ]
    }
   ],
   "source": [
    "import os\n",
    "import matplotlib.pyplot as plt\n",
    "os.chdir(\"D:\\各种材料\\研究生\\python练习\\Python_ZhibinGuo\\Fund Summer\\基金数据\")\n",
    "filename= [ i+'.xlsx' for i in date_download]\n",
    "num_files=len(filename)\n",
    "IC=[]\n",
    "\n",
    "for i in range(0,num_files-1):\n",
    "    pre_file=filename[i]\n",
    "    aft_file=filename[i+1]\n",
    "    pre_fund=pd.read_excel(pre_file)\n",
    "    aft_fund=pd.read_excel(aft_file)\n",
    "    \n",
    "    pre_fund.index=pre_fund['wind_code']\n",
    "    del pre_fund['wind_code']\n",
    "    del pre_fund['date']\n",
    "    del pre_fund['RETURN_Q']\n",
    "    pre_fund=pre_fund.rename(columns={'NAV':'NAV1'})\n",
    "    \n",
    "    aft_fund.index=aft_fund['wind_code']\n",
    "    del aft_fund['wind_code']\n",
    "    del aft_fund['date']\n",
    "    del aft_fund['RETURN_Q']\n",
    "    del aft_fund['NETASSET_TOTAL']\n",
    "    aft_fund=aft_fund.rename(columns={'NAV':'NAV2'})\n",
    "    \n",
    "    D=pd.concat([pre_fund,aft_fund],axis=1)\n",
    "    D=D.dropna()\n",
    "    \n",
    "    IC_temp=InformCoef(D['NETASSET_TOTAL'],D['NAV2']/D['NAV1']-1,1)\n",
    "    IC.append(IC_temp)"
   ]
  },
  {
   "cell_type": "code",
   "execution_count": 94,
   "metadata": {},
   "outputs": [
    {
     "data": {
      "text/plain": [
       "[0.1959487223149735,\n",
       " 0.31888949373979314,\n",
       " 0.07956452029887363,\n",
       " 0.07515555469938934,\n",
       " -0.02575330203413695,\n",
       " -0.13696211912199235,\n",
       " -0.3280847564147291,\n",
       " -0.003970297972540125,\n",
       " 0.35727817909227205,\n",
       " -0.028239319821934897,\n",
       " -0.02541893654223595,\n",
       " -0.22314407614046602,\n",
       " -0.13790680863851595,\n",
       " -0.058231287777177794,\n",
       " 0.04670288509099417,\n",
       " 0.001982481185269638,\n",
       " 0.19704160734061066,\n",
       " -0.0469360738280712,\n",
       " 0.029042898081782894,\n",
       " 0.14499402330738448,\n",
       " -0.0817198027754622,\n",
       " -0.03368413809461296,\n",
       " 0.0290572220906379,\n",
       " -0.0579680956732216,\n",
       " -0.08747755439122828,\n",
       " -0.12419876949657946,\n",
       " 0.022659403534898304,\n",
       " -0.2031510429489863,\n",
       " -0.03485871239165197,\n",
       " -0.23504510777514562,\n",
       " -0.19046560324417114,\n",
       " 0.005626529463076516,\n",
       " -0.052032622231217907,\n",
       " 0.026375571752933653,\n",
       " 0.017671644788205446,\n",
       " -0.2126832742945739,\n",
       " -0.06200739322460965,\n",
       " -0.060706103877643865,\n",
       " -0.1834150475446517,\n",
       " -0.1587212359729002,\n",
       " -0.008230950409965796,\n",
       " -0.14079539730290658,\n",
       " 0.06878048391615071,\n",
       " -0.09564417345155346,\n",
       " -0.0017699602708173925,\n",
       " -0.1238368063074239,\n",
       " -0.15407185889865388,\n",
       " 0.018388680984924955,\n",
       " 0.1031642056763647,\n",
       " 0.08055991661749688,\n",
       " -0.037707614203180875]"
      ]
     },
     "execution_count": 94,
     "metadata": {},
     "output_type": "execute_result"
    }
   ],
   "source": [
    "IC"
   ]
  }
 ],
 "metadata": {
  "kernelspec": {
   "display_name": "Python 3",
   "language": "python",
   "name": "python3"
  },
  "language_info": {
   "codemirror_mode": {
    "name": "ipython",
    "version": 3
   },
   "file_extension": ".py",
   "mimetype": "text/x-python",
   "name": "python",
   "nbconvert_exporter": "python",
   "pygments_lexer": "ipython3",
   "version": "3.7.4"
  }
 },
 "nbformat": 4,
 "nbformat_minor": 2
}
